{
 "cells": [
  {
   "cell_type": "code",
   "execution_count": 73,
   "id": "f4ff80f7-5b6a-49a6-99c0-ca6b44e62da5",
   "metadata": {},
   "outputs": [],
   "source": [
    "import subprocess"
   ]
  },
  {
   "cell_type": "code",
   "execution_count": 74,
   "id": "6a777804-1011-4a6d-9357-c3924b3c25ca",
   "metadata": {},
   "outputs": [],
   "source": [
    "# Exercice 2\n",
    "\n",
    "# Question 1\n",
    "# n_j * n_e * n_e variables (nombre de 3-tuples possibles entre trois ensembles finis et dénombrables)\n",
    "\n",
    "# Question 2\n",
    "def codage(n_e, j, x, y):\n",
    "    return j*(n_e**2) + x*n_e + y + 1 # cf énoncé\n",
    "\n",
    "def decodage(k, n_e): # meme logique que la conversion secondes -> hh:mm:ss\n",
    "    j = (k - 1) // n_e**2\n",
    "    x = ((k - 1) % n_e**2) // n_e\n",
    "    y = (k - 1) % n_e\n",
    "    return j,x,y"
   ]
  },
  {
   "cell_type": "code",
   "execution_count": 75,
   "id": "48873c1d-fa4a-4f2a-93df-6f3681e87b9f",
   "metadata": {},
   "outputs": [],
   "source": [
    "# Exercice 3\n",
    "# Question 1\n",
    "\n",
    "def au_moins_une(liste): # clause au format DIMACS\n",
    "    return (\" \".join([str(_) for _ in liste])) + \" 0\\n\" # il suffit de valuer à vrai une des variables propositionnelles\n",
    "\n",
    "def au_plus_une(liste): # clause au format DIMACS\n",
    "    dimacs = \"\"\n",
    "    for i in range(len(liste)):\n",
    "        for j in range(len(liste)):\n",
    "            if j > i:\n",
    "                clause = []\n",
    "                clause.append(-liste[i])\n",
    "                clause.append(-liste[j])\n",
    "                dimacs += (\" \".join([str(_) for _ in clause])) + \" 0\\n\"\n",
    "    \n",
    "    return dimacs"
   ]
  },
  {
   "cell_type": "markdown",
   "id": "ab647227-31c0-4fdb-83a1-79f66a01606f",
   "metadata": {},
   "source": [
    "QUESTION 2"
   ]
  },
  {
   "cell_type": "markdown",
   "id": "65e27ff9-4921-4f3b-88c1-561443b4f332",
   "metadata": {},
   "source": [
    "1) La contrainte C1 peut s'écrire :"
   ]
  },
  {
   "cell_type": "markdown",
   "id": "d324cae9-0cd8-4ea3-8331-bc0ac7ba9fef",
   "metadata": {},
   "source": [
    "$\\forall x \\in \\{0,\\ldots,n_e -1\\}, \\forall j \\in \\{0, \\ldots, n_j - 1\\}, \\sum_{y \\in \\{0, \\ldots, n_e - 1 \\}} m_{j,x,y} + m_{j,y,x} \\leq 1$"
   ]
  },
  {
   "cell_type": "code",
   "execution_count": 76,
   "id": "1ded86dd-0239-404e-b90e-666ffff5fe90",
   "metadata": {},
   "outputs": [],
   "source": [
    "# Question 2\n",
    "# 2) \n",
    "\n",
    "def encoderC1(n_e,n_j):\n",
    "    c1 = \"\"\n",
    "    for j in range(n_j):\n",
    "        for x in range(n_e):\n",
    "            adv_equipe_jour = [] # liste contenant les matchs potentiels d'une equipe pour un jour donné\n",
    "            for y in range(n_e):\n",
    "                if x != y:\n",
    "                    k1 = codage(n_e,j,x,y) # domicile\n",
    "                    k2 = codage(n_e,j,y,x) # ext\n",
    "                    adv_equipe_jour.append(k1)\n",
    "                    adv_equipe_jour.append(k2)\n",
    "            c1 += au_plus_une(adv_equipe_jour) # au plus une equipe y peut etre jouée par x pour un jour j\n",
    "\n",
    "    return c1\n",
    "\n",
    "\n",
    "# 3)\n",
    "# print(\"Nombre de contraintes :\", len(encoderC1(3,4).splitlines()))\n",
    "# print(encoderC1(3,4))"
   ]
  },
  {
   "cell_type": "markdown",
   "id": "eba9d36e-fbde-450c-88e4-5e4f0b56bad8",
   "metadata": {},
   "source": [
    "4. La contrainte C2 peut s'écrire :"
   ]
  },
  {
   "cell_type": "markdown",
   "id": "039e3c24-1639-48fb-9d6d-24dd782062c6",
   "metadata": {},
   "source": [
    "$\\forall x \\in \\{0,\\ldots,n_e -1\\}, \\forall y \\in \\{0, \\ldots, n_e - 1\\}, \\sum_{j \\in \\{0, \\ldots, n_j - 1 \\}} m_{j,x,y} = 1 \\text{ et } m_{j,y,x} = 1$"
   ]
  },
  {
   "cell_type": "code",
   "execution_count": 77,
   "id": "054523ac-ebfa-4935-8b38-9b65b7500c2f",
   "metadata": {},
   "outputs": [],
   "source": [
    "# 5)\n",
    "\n",
    "def encoderC2(n_e,n_j):\n",
    "    c2 = \"\"\n",
    "    for x in range(n_e):\n",
    "        for y in range(n_e):\n",
    "            if x!=y: # une equipe ne peut pas jouer contre elle-meme\n",
    "                x_vs_y = []\n",
    "                for j in range(n_j):\n",
    "                    k = codage(n_e,j,x,y)\n",
    "                    x_vs_y.append(k)\n",
    "                c2 += au_plus_une(x_vs_y)\n",
    "                c2 += au_moins_une(x_vs_y) # exactement une rencontre entre x (domicile) et y (exterieur), quel que soit le jour (donc dans le championnat entier)\n",
    "    return c2\n",
    "\n",
    "# 6)\n",
    "# print(\"Nombre de contraintes :\", len(encoderC2(3,4).splitlines()))\n",
    "# print(encoderC2(3,4))\n",
    "\n",
    "\n",
    "# 7)\n",
    "def encoder(n_e, n_j):\n",
    "    return encoderC1(n_e, n_j) + encoderC2(n_e, n_j)"
   ]
  },
  {
   "cell_type": "code",
   "execution_count": 78,
   "id": "8ad40ead-308a-4986-baba-01e3b7e85d03",
   "metadata": {},
   "outputs": [],
   "source": [
    "# Question 3\n",
    "\n",
    "def nb_variables(n_e, n_j):\n",
    "    return n_j * n_e * n_e # d'après 1)\n",
    "\n",
    "def ecrire_cnf(n_e, n_j, filepath):\n",
    "    f = open(filepath, \"w\")\n",
    "    s = encoder(n_e, n_j)\n",
    "    nb_cont = len(('' + s).splitlines()) # ''+s pour ne pas faire pointer sur s l'operation\n",
    "    f.write(\"p cnf \" + str(nb_variables(n_e, n_j)) + \" \" + str(nb_cont) + \"\\n\") # premiere ligne format DIMACS\n",
    "    f.write(s) # ecrit automatique a la suite (coup de bol)\n",
    "    f.close()"
   ]
  },
  {
   "cell_type": "markdown",
   "id": "1244ca75-cf61-4388-bd75-c4a8ed93a05a",
   "metadata": {},
   "source": [
    "Le résultat renvoyé par Glucose est que l'ensemble de clauses est insatisfiable. Normal, il n'y a pas assez de journées pour accueillir toutes les rencontres. Il faudrait en ajouter 2 à 4 pour que 3 équipes puissent s'affronter à des journées différentes à domicile et à l'extérieur (voir tout en bas pour le raisonnement)."
   ]
  },
  {
   "cell_type": "code",
   "execution_count": 79,
   "id": "94d61b2d-9063-4326-9e7c-d9c457bc320a",
   "metadata": {},
   "outputs": [],
   "source": [
    "# Question 4\n",
    "\n",
    "def decoder(filepath, n_j, n_e, equipes=None):\n",
    "    b = False # pour renvoyer si le decodage a donné quelque chose ou pas\n",
    "    planning = []\n",
    "    for j in range(n_j):\n",
    "        planning.append([])\n",
    "        \n",
    "    if equipes != None:\n",
    "        noms = open(equipes, 'r').read().splitlines()\n",
    "    with open(filepath, 'r') as f:\n",
    "        lines = f.read().splitlines()[-2:]\n",
    "        if lines[-1].split(\" \")[-1] == \"UNSATISFIABLE\":\n",
    "            return b\n",
    "        else:\n",
    "            line = lines[-1].split(\" \")[1:-1] # on enleve le v du debut et le 0 de la fin\n",
    "            for item in line:\n",
    "                k = int(item)\n",
    "                if k >= 0:\n",
    "                    b = True\n",
    "                    j,x,y = decodage(k, n_e)\n",
    "                    if equipes != None:\n",
    "                        x = noms[x]\n",
    "                        y = noms[y]\n",
    "                    planning[j].append((x,y))\n",
    "            \n",
    "            print(\"Planning :\")\n",
    "            for i in range(len(planning)):\n",
    "                print(\"Journée\", i+1, \":\")\n",
    "                for (x,y) in planning[i]:\n",
    "                    print(x, \"vs\", y)\n",
    "    \n",
    "    return b"
   ]
  },
  {
   "cell_type": "code",
   "execution_count": 81,
   "id": "9b601bef-1570-4840-8408-cef095f57bfc",
   "metadata": {},
   "outputs": [],
   "source": [
    "# Question 5\n",
    "'''\n",
    "ATTENTION : BIEN ETRE DANS LE REPERTOIRE OÙ GLUCOSE_STATIC SE TROUVE\n",
    "'''\n",
    "\n",
    "# n_e = int(input(\"Entrer le nombre d'équipes : \"))\n",
    "# n_j = int(input(\"Entrer le nombre de journées de championnat : \"))\n",
    "teams = \"equipes.txt\"\n",
    "\n",
    "ecrire_cnf(n_e, n_j, \"championnat.cnf\")\n",
    "resultat = subprocess.run([\"./glucose_static\", \"-model\", \"championnat.cnf\"], stdout=subprocess.PIPE, stderr=subprocess.PIPE, text=True)\n",
    "res = resultat.stdout # on recupere la sortie de l'appel à glucose pour la resolution SAT\n",
    "f = open(\"resultat.txt\", \"w\")\n",
    "f.write(res)\n",
    "f.close()\n",
    "#decoder(\"resultat.txt\", n_j, n_e, equipes=teams)"
   ]
  },
  {
   "cell_type": "code",
   "execution_count": 82,
   "id": "1cdc4d7e-aa99-43c2-bd58-d4fdb43c387b",
   "metadata": {},
   "outputs": [],
   "source": [
    "# Exercice 4\n",
    "import time\n",
    "\n",
    "def optimiser_nj(ne_min=3, ne_max=10):\n",
    "    \n",
    "    nj_opt = [0] * (ne_max - ne_min + 1) # liste de 0 du nombre d'équipes à tester\n",
    "    \n",
    "    for n_e in range(ne_min, ne_max+1):\n",
    "        n_j = 1\n",
    "        t_start = time.time()\n",
    "        t_fin = t_start\n",
    "        while t_fin - t_start < 10: # 10 secondes\n",
    "            ecrire_cnf(n_e, n_j, \"championnat.cnf\")\n",
    "            resultat = subprocess.run([\"./glucose_static\", \"-model\", \"championnat.cnf\"], stdout=subprocess.PIPE, stderr=subprocess.PIPE, text=True)\n",
    "            res = resultat.stdout # on recupere la sortie de l'appel à glucose pour la resolution SAT\n",
    "            f = open(\"resultat.txt\", \"w\")\n",
    "            f.write(res)\n",
    "            f.close()\n",
    "            if decoder(\"resultat.txt\", n_j, n_e) != False:\n",
    "                nj_opt[n_e - ne_min] = n_j\n",
    "                break\n",
    "            n_j += 1\n",
    "            t_fin = time.time()\n",
    "            \n",
    "    return nj_opt\n",
    "\n",
    "def borne_min_nj(n_e):\n",
    "    return (n_e-1)*n_e # chaque équipe rencontre 2 fois une autre, sans pouvoir jouer contre elle-meme, n_e equipes jouent contre n-1 autres"
   ]
  },
  {
   "cell_type": "code",
   "execution_count": 83,
   "id": "dc9cd1d3-bd71-4b80-9e38-4d80d84a8473",
   "metadata": {},
   "outputs": [],
   "source": [
    "# print(optimiser_nj())"
   ]
  }
 ],
 "metadata": {
  "kernelspec": {
   "display_name": "Python 3",
   "language": "python",
   "name": "python3"
  },
  "language_info": {
   "codemirror_mode": {
    "name": "ipython",
    "version": 3
   },
   "file_extension": ".py",
   "mimetype": "text/x-python",
   "name": "python",
   "nbconvert_exporter": "python",
   "pygments_lexer": "ipython3",
   "version": "3.9.13"
  }
 },
 "nbformat": 4,
 "nbformat_minor": 5
}
