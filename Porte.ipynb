{
 "cells": [
  {
   "cell_type": "markdown",
   "metadata": {},
   "source": [
    "IAMSI -- 2022-2023\n",
    "--------\n",
    "\n",
    "\n",
    "# TME 07: Règles d'association"
   ]
  },
  {
   "cell_type": "markdown",
   "metadata": {},
   "source": [
    "<font color=\"RED\" size=\"+1\">**[Q]**</font> **Indiquer dans la boîte ci-dessous vos noms et prénoms**"
   ]
  },
  {
   "cell_type": "markdown",
   "metadata": {},
   "source": [
    "Léo PORTE"
   ]
  },
  {
   "cell_type": "markdown",
   "metadata": {},
   "source": [
    "## Présentation"
   ]
  },
  {
   "cell_type": "markdown",
   "metadata": {},
   "source": [
    "### But de ce TME\n",
    "\n",
    "Ce TME a pour but de réaliser une implémentation *intuitive* de l'algorithme **apriori** afin de la comparer à une version efficace de cet algorithme, puis à une implémentation de l'algorithme **fp-growth**.\n"
   ]
  },
  {
   "cell_type": "markdown",
   "metadata": {},
   "source": [
    "#### Contenu de l'archive téléchargée\n",
    "\n",
    "Une fois détarée, l'archive **tme-07.tgz** crée le répertoire <code>tme09</code> contenant :\n",
    "- un répertoire <code>dataset</code> contenant des bases d'exemples pour tester les algorithmes\n",
    "- deux fichiers exécutables (Linux): <code>apriori32</code> et <code>fpgrowth32</code> (ces 2 programmes ont été développés par Christian Borgelt, plus d'infos sur sa page web  https://www.borgelt.net/software.html). Ces programmes seront utilisés en fin de séance. Si vous n'êtes pas sous Linux, vous pouvez trouver une version pour votre OS ici:\n",
    "    - <code>apriori</code> : https://borgelt.net/apriori.html\n",
    "    - <code>fpgrowth</code> : https://borgelt.net/fpgrowth.html\n",
    "\n"
   ]
  },
  {
   "cell_type": "markdown",
   "metadata": {},
   "source": [
    "#### Compte-rendu de la séance\n",
    "\n",
    "Le compte-rendu de ce TME se compose de ce notebook complété par les réponses aux questions posées.\n",
    "\n",
    "Ce compte-rendu est à poster : \n",
    "- à l'issue de la séance, un premier envoi doit être **obligatoirement** fait avec ce que vous avez réalisé\n",
    "- si nécessaire, un complément peut être envoyé **au plus tard avant le début de la prochaine séance**.\n"
   ]
  },
  {
   "cell_type": "markdown",
   "metadata": {},
   "source": [
    "<font color=\"RED\">IMPORTANT: soumission de votre fichier final</font>\n",
    "\n",
    "**Nom à donner au fichier à poster** : *Nom1_Nom2.ipynb* \n",
    "- *Nom1* et *Nom2* : noms des membres du binôme\n",
    "- ne pas compresser ou faire une archive: envoyer le notebook tel quel, éventuellement, si vous avez d'autres fichiers à envoyer, les  joindre au message."
   ]
  },
  {
   "cell_type": "code",
   "execution_count": 1,
   "metadata": {
    "tags": []
   },
   "outputs": [
    {
     "data": {
      "text/plain": [
       "['/home/gameselo/Bureau/M1_DAC_2022_2023/IAMSI/TME/tme07/tme-07',\n",
       " '/home/gameselo/miniconda3/envs/mapsi/lib/python39.zip',\n",
       " '/home/gameselo/miniconda3/envs/mapsi/lib/python3.9',\n",
       " '/home/gameselo/miniconda3/envs/mapsi/lib/python3.9/lib-dynload',\n",
       " '',\n",
       " '/home/gameselo/miniconda3/envs/mapsi/lib/python3.9/site-packages',\n",
       " '/home/gameselo/Bureau/M1_DAC_2022_2023/PLDAC/datamaestro/src',\n",
       " '/home/gameselo/Bureau/M1_DAC_2022_2023/PLDAC/datamaestro_text/src',\n",
       " '/home/gameselo/Bureau/M1_DAC_2022_2023/PLDAC/experimaestro-ir/src',\n",
       " '/home/gameselo/miniconda3/envs/mapsi/lib/python3.9/site-packages/experimaestro_ir-0.0.0-py3.9.egg',\n",
       " '/home/gameselo/Bureau/M1_DAC_2022_2023/PLDAC/cosplade/splade']"
      ]
     },
     "execution_count": 1,
     "metadata": {},
     "output_type": "execute_result"
    }
   ],
   "source": [
    "# Vérification de la version de Python utilisée:\n",
    "import sys\n",
    "sys.path # le path doit contenir python3.5 ou une version supérieure"
   ]
  },
  {
   "cell_type": "markdown",
   "metadata": {},
   "source": [
    "## Traitement d'une base d'apprentissage\n",
    "\n",
    "\n",
    "### Chargement de la base\n",
    "\n",
    "On commence par travailler sur la base exemple du fichier <code>exemple-1.txt</code> (fourni dans le répertoire datasets). \n",
    "\n",
    "Ce fichier contient une transaction par ligne. Chaque transaction est composée d'un groupe d'items séparés par un espace.\n",
    "\n",
    "On peut charger en Python ce fichier par la commande suivante (le répertoire datasets doit se trouver dans le répertoire courant) :"
   ]
  },
  {
   "cell_type": "code",
   "execution_count": 2,
   "metadata": {
    "scrolled": true
   },
   "outputs": [
    {
     "name": "stdout",
     "output_type": "stream",
     "text": [
      "ligne 1 : ['a', 'b', 'c']\n",
      "ligne 2 : ['a', 'd', 'e']\n",
      "ligne 3 : ['b', 'c', 'd']\n",
      "ligne 4 : ['a', 'b', 'c', 'd']\n",
      "ligne 5 : ['b', 'c']\n",
      "ligne 6 : ['a', 'b', 'd']\n",
      "ligne 7 : ['d', 'e']\n",
      "ligne 8 : ['a', 'b', 'c', 'd']\n",
      "ligne 9 : ['c', 'd', 'e']\n",
      "ligne 10 : ['a', 'b', 'c']\n"
     ]
    }
   ],
   "source": [
    "import csv\n",
    "with open('datasets/exemple-1.txt', 'r') as fichier:\n",
    "    lecteur = csv.reader(fichier, delimiter=' ')\n",
    "    i = 0\n",
    "    for ligne in lecteur:\n",
    "        i += 1\n",
    "        print('ligne',i,':',ligne)"
   ]
  },
  {
   "cell_type": "markdown",
   "metadata": {},
   "source": [
    "<font color=\"RED\" size=\"+1\">**[Q]**</font>  Ecrire la fonction <code>chargeBase</code> qui prend en argument un nom de fichier, respectant le format énoncé plus haut, le lit et rend un dictionnaire dont les clés sont les numéros de ligne (une transaction) et les valeurs associées les itemsets correspondants représentés sous forme d'ensembles Python (des <code>set()</code> donc).\n",
    "\n",
    "Ici, il est plus intéressant de représenter un itemset comme un ensemble Python plutôt que comme une liste. Il est ainsi plus facile de réaliser des comparaisons d'ensembles ou des ajouts d'éléments.\n",
    "\n",
    "Dans le reste de ce document, on appelle **BASE** un dictionnaire de ce type."
   ]
  },
  {
   "cell_type": "code",
   "execution_count": 4,
   "metadata": {},
   "outputs": [],
   "source": [
    "def chargeBase(filename, delimiteur=' '):\n",
    "    base = dict()\n",
    "    with open(filename, 'r') as source:\n",
    "        i = 1\n",
    "        for line in source:\n",
    "            values = line.rstrip().split(delimiteur)\n",
    "            base[i] = set(values)\n",
    "            i += 1\n",
    "            \n",
    "    return base"
   ]
  },
  {
   "cell_type": "code",
   "execution_count": 5,
   "metadata": {},
   "outputs": [
    {
     "name": "stdout",
     "output_type": "stream",
     "text": [
      "Résultat du chargement de 'exemple-1.txt', on obtient : \n"
     ]
    },
    {
     "data": {
      "text/plain": [
       "{1: {'a', 'b', 'c'},\n",
       " 2: {'a', 'd', 'e'},\n",
       " 3: {'b', 'c', 'd'},\n",
       " 4: {'a', 'b', 'c', 'd'},\n",
       " 5: {'b', 'c'},\n",
       " 6: {'a', 'b', 'd'},\n",
       " 7: {'d', 'e'},\n",
       " 8: {'a', 'b', 'c', 'd'},\n",
       " 9: {'c', 'd', 'e'},\n",
       " 10: {'a', 'b', 'c'}}"
      ]
     },
     "execution_count": 5,
     "metadata": {},
     "output_type": "execute_result"
    }
   ],
   "source": [
    "print(\"Résultat du chargement de 'exemple-1.txt', on obtient : \")\n",
    "Base1 = chargeBase('datasets/exemple-1.txt')\n",
    "Base1"
   ]
  },
  {
   "cell_type": "markdown",
   "metadata": {},
   "source": [
    "On utilise la variable **Base1** dans la suite pour faire référence à cette base."
   ]
  },
  {
   "cell_type": "markdown",
   "metadata": {},
   "source": [
    "## Itemsets et support"
   ]
  },
  {
   "cell_type": "markdown",
   "metadata": {},
   "source": [
    "<font color=\"RED\" size=\"+1\">**[Q]**</font>  Ecrire la fonction <code>noms_items</code> qui prend en argument une BASE et rend l'ensemble des items qui composent cette base."
   ]
  },
  {
   "cell_type": "code",
   "execution_count": 6,
   "metadata": {},
   "outputs": [],
   "source": [
    "def noms_items(base):\n",
    "    ens = set()\n",
    "    for i in base.keys():\n",
    "        for item in base[i]:\n",
    "            if item not in ens:\n",
    "                ens.add(item)\n",
    "    return ens"
   ]
  },
  {
   "cell_type": "code",
   "execution_count": 7,
   "metadata": {},
   "outputs": [
    {
     "name": "stdout",
     "output_type": "stream",
     "text": [
      "Pour la BASE précédente :\n"
     ]
    },
    {
     "data": {
      "text/plain": [
       "{'a', 'b', 'c', 'd', 'e'}"
      ]
     },
     "execution_count": 7,
     "metadata": {},
     "output_type": "execute_result"
    }
   ],
   "source": [
    "print(\"Pour la BASE précédente :\")\n",
    "noms_items(Base1)"
   ]
  },
  {
   "cell_type": "markdown",
   "metadata": {},
   "source": [
    "<font color=\"RED\" size=\"+1\">**[Q]**</font>  Ecrire la fonction <code>singletons</code> qui prend en argument une BASE et rend la liste des itemsets de taille 1 obtenus à partir de cette base.\n",
    "\n",
    "*Remarque*: attention, ici on utilise une **liste** pour stocker les itemsets (un itemset est un ensemble Python) car il n'est pas possible en Python de créer des ensembles d'ensembles.\n"
   ]
  },
  {
   "cell_type": "code",
   "execution_count": 8,
   "metadata": {},
   "outputs": [],
   "source": [
    "def singletons(base):\n",
    "    sgt = []\n",
    "    items = noms_items(base)\n",
    "    for item in items:\n",
    "        sgt.append({item})\n",
    "    return sgt"
   ]
  },
  {
   "cell_type": "code",
   "execution_count": 9,
   "metadata": {},
   "outputs": [
    {
     "name": "stdout",
     "output_type": "stream",
     "text": [
      "Exemple: singletons(Base1) rend :\n"
     ]
    },
    {
     "data": {
      "text/plain": [
       "[{'d'}, {'e'}, {'a'}, {'b'}, {'c'}]"
      ]
     },
     "execution_count": 9,
     "metadata": {},
     "output_type": "execute_result"
    }
   ],
   "source": [
    "print(\"Exemple: singletons(Base1) rend :\")\n",
    "singletons(Base1)"
   ]
  },
  {
   "cell_type": "markdown",
   "metadata": {},
   "source": [
    "<font color=\"RED\" size=\"+1\">**[Q]**</font>  Ecrire la fonction <code>comptage</code> qui, pour une BASE et un itemset donnés, rend le nombre de transactions de BASE qui contiennent cet itemset."
   ]
  },
  {
   "cell_type": "code",
   "execution_count": 10,
   "metadata": {},
   "outputs": [],
   "source": [
    "def comptage(base, itemset):\n",
    "    cpt = 0\n",
    "    for i in base.keys():\n",
    "        if itemset.issubset(base[i]):\n",
    "            cpt += 1\n",
    "    \n",
    "    return cpt"
   ]
  },
  {
   "cell_type": "code",
   "execution_count": 11,
   "metadata": {},
   "outputs": [
    {
     "name": "stdout",
     "output_type": "stream",
     "text": [
      "Comptage de l'itemset {'a','b','c'} dans la base précédente : \n",
      "comptage(Base1,{'a','b','c'}) rend la valeur 4\n"
     ]
    }
   ],
   "source": [
    "print(\"Comptage de l'itemset {'a','b','c'} dans la base précédente : \")\n",
    "print(\"comptage(Base1,{'a','b','c'}) rend la valeur \"+str(comptage(Base1,{'a','b','c'})))"
   ]
  },
  {
   "cell_type": "markdown",
   "metadata": {},
   "source": [
    "<font color=\"RED\" size=\"+1\">**[Q]**</font>  Ecrire la fonction <code>support</code> qui, pour une BASE et un itemset donnés, rend le support de cet itemset dans la BASE."
   ]
  },
  {
   "cell_type": "code",
   "execution_count": 12,
   "metadata": {},
   "outputs": [],
   "source": [
    "def support(base, itemset):\n",
    "    return comptage(base, itemset) / len(base)"
   ]
  },
  {
   "cell_type": "code",
   "execution_count": 13,
   "metadata": {},
   "outputs": [
    {
     "name": "stdout",
     "output_type": "stream",
     "text": [
      "Support de l'itemset {'a','b','c'} dans la base précédente : 0.4\n"
     ]
    }
   ],
   "source": [
    "print(\"Support de l'itemset {'a','b','c'} dans la base précédente : \" \\\n",
    "      +str(support(Base1,{'a','b','c'})))"
   ]
  },
  {
   "cell_type": "markdown",
   "metadata": {},
   "source": [
    "## Implémentation de l'algorithme a-priori\n",
    "\n",
    "Dans cette partie, une implémentation de la partie de construction des itemsets fréquents de l'algorithme a-priori est réalisée. On ne s'intéresse pas dans cette question à la génération des règles d'association (mais cela peut être fait en complément).\n",
    "\n",
    "Votre programme doit pouvoir s'appliquer aux bases fournies dans le répertoire *datasets* (éventuellement, sur au moins les 10 premiers exemples de la base mushrooms)."
   ]
  },
  {
   "cell_type": "markdown",
   "metadata": {},
   "source": [
    "<font color=\"RED\" size=\"+1\">**[Q]**</font>  Ecrire la fonction <code>apriori_gen</code> qui prend en argument une liste d'itemsets de même longueur $k$, applique l'algorithme apriori-gen pour rendre la liste des itemsets candidats de longueurs $k+1$.\n"
   ]
  },
  {
   "cell_type": "code",
   "execution_count": 14,
   "metadata": {},
   "outputs": [],
   "source": [
    "def apriori_gen(liste_itemsets):\n",
    "    if liste_itemsets: \n",
    "        k = len(liste_itemsets[0])\n",
    "    else:\n",
    "        k = 0\n",
    "    for itemset in liste_itemsets:\n",
    "        if len(itemset) != k:\n",
    "            return \"Erreur : les itemsets ne sont pas tous de la même taille\"\n",
    "    \n",
    "    C = []\n",
    "    for f1 in liste_itemsets:\n",
    "        for f2 in liste_itemsets:\n",
    "            c = f1.union(f2)\n",
    "            if len(c) == k+1:\n",
    "                C.append(c)\n",
    "    \n",
    "    nodub_C = []\n",
    "    for c in C:\n",
    "        if c not in nodub_C:\n",
    "            keep = True\n",
    "            for i in c:\n",
    "                if c - {i} not in liste_itemsets:\n",
    "                    keep = False\n",
    "                    break\n",
    "                    \n",
    "            if keep:\n",
    "                nodub_C.append(c)\n",
    "                \n",
    "    return nodub_C"
   ]
  },
  {
   "cell_type": "code",
   "execution_count": 15,
   "metadata": {},
   "outputs": [
    {
     "name": "stdout",
     "output_type": "stream",
     "text": [
      "Exemple: apriori_gen([{'a'}, {'b'}, {'c'}, {'d'}]) rend \n",
      "[{'a', 'b'}, {'a', 'c'}, {'a', 'd'}, {'b', 'c'}, {'d', 'b'}, {'d', 'c'}]\n",
      "\n",
      "Exemple: apriori_gen([{'a','b'},{'a','d'},{'b','d'},{'b','c'},{'c','d'}]) rend \n",
      "[{'a', 'd', 'b'}, {'d', 'b', 'c'}]\n"
     ]
    }
   ],
   "source": [
    "print(\"Exemple: apriori_gen([{'a'}, {'b'}, {'c'}, {'d'}]) rend \")\n",
    "print(apriori_gen([{'a'}, {'b'}, {'c'}, {'d'}]))\n",
    "\n",
    "print(\"\\nExemple: apriori_gen([{'a','b'},{'a','d'},{'b','d'},{'b','c'},{'c','d'}]) rend \")\n",
    "print(apriori_gen([{'a', 'b'}, {'a', 'd'}, {'b', 'd'}, {'b', 'c'}, {'c', 'd'}]))"
   ]
  },
  {
   "cell_type": "markdown",
   "metadata": {},
   "source": [
    "<font color=\"RED\" size=\"+1\">**[Q]**</font>  Ecrire la fonction <code>apriori</code> qui prend en argument une BASE et une valeur réelle comprise entre 0 et 1, et qui rend une liste de tuples dont le premier élément et un itemset trouvé et le deuxième élément est la valeur de support correspondante."
   ]
  },
  {
   "cell_type": "code",
   "execution_count": 16,
   "metadata": {},
   "outputs": [],
   "source": [
    "def apriori(base, minsup):\n",
    "    C = [singletons(base)]\n",
    "    F = []\n",
    "    k = 0\n",
    "    while C[k]:\n",
    "        Fk = []\n",
    "        for c in C[k]:\n",
    "            if support(base, c) >= minsup:\n",
    "                Fk.append(c)\n",
    "        k += 1\n",
    "        C.append(apriori_gen(Fk))\n",
    "        F += Fk\n",
    "    \n",
    "    F_supp = []\n",
    "    for elem in F:\n",
    "        F_supp.append((elem, support(base, elem)))\n",
    "    \n",
    "    return F_supp"
   ]
  },
  {
   "cell_type": "code",
   "execution_count": 17,
   "metadata": {},
   "outputs": [
    {
     "name": "stdout",
     "output_type": "stream",
     "text": [
      "Exemple: apriori(Base1, 0.3]) rend \n",
      "[({'d'}, 0.7), ({'e'}, 0.3), ({'a'}, 0.6), ({'b'}, 0.7), ({'c'}, 0.7), ({'d', 'e'}, 0.3), ({'a', 'd'}, 0.4), ({'d', 'b'}, 0.4), ({'d', 'c'}, 0.4), ({'a', 'b'}, 0.5), ({'a', 'c'}, 0.4), ({'b', 'c'}, 0.6), ({'a', 'd', 'b'}, 0.3), ({'d', 'b', 'c'}, 0.3), ({'a', 'b', 'c'}, 0.4)]\n"
     ]
    }
   ],
   "source": [
    "print(\"Exemple: apriori(Base1, 0.3]) rend \")\n",
    "print(apriori(Base1,0.3))"
   ]
  },
  {
   "cell_type": "markdown",
   "metadata": {},
   "source": [
    "## Expérimentations"
   ]
  },
  {
   "cell_type": "markdown",
   "metadata": {},
   "source": [
    "### Vérification avec la base du TD\n",
    "\n",
    "Utiliser la fonction <code>apriori</code> avec la base de transactions du TD afin de vérifier que les itemsets obtenus sont corrects."
   ]
  },
  {
   "cell_type": "code",
   "execution_count": 18,
   "metadata": {},
   "outputs": [],
   "source": [
    "BaseTD = chargeBase('datasets/basetd.txt')"
   ]
  },
  {
   "cell_type": "code",
   "execution_count": 19,
   "metadata": {},
   "outputs": [
    {
     "name": "stdout",
     "output_type": "stream",
     "text": [
      "Exemple: apriori(BaseTD, 0.3) rend \n",
      "[({'E'}, 0.6), ({'C'}, 0.5), ({'D'}, 0.9), ({'B'}, 0.7), ({'A'}, 0.5), ({'E', 'D'}, 0.6), ({'E', 'B'}, 0.4), ({'E', 'A'}, 0.4), ({'C', 'D'}, 0.4), ({'C', 'B'}, 0.3), ({'D', 'B'}, 0.6), ({'D', 'A'}, 0.4), ({'A', 'B'}, 0.3), ({'E', 'D', 'B'}, 0.4), ({'E', 'D', 'A'}, 0.4)]\n"
     ]
    }
   ],
   "source": [
    "print(\"Exemple: apriori(BaseTD, 0.3) rend \")\n",
    "print(apriori(BaseTD,0.3))"
   ]
  },
  {
   "cell_type": "markdown",
   "metadata": {},
   "source": [
    "### Comparaisons avec les implémentations apriori et fpgrowth"
   ]
  },
  {
   "cell_type": "markdown",
   "metadata": {},
   "source": [
    "<font color=\"RED\" size=\"+1\">**[Q]**</font>  Tester votre fonction <code>apriori</code> sur les 3 bases données dans datasets et confronter les résultats obtenus avec ceux fournis par l'exécutable <code>apriori</code>."
   ]
  },
  {
   "cell_type": "code",
   "execution_count": 20,
   "metadata": {},
   "outputs": [
    {
     "name": "stdout",
     "output_type": "stream",
     "text": [
      "Résultat du chargement de 'mushrooms.txt', on obtient : \n",
      "8416  transactions.\n"
     ]
    }
   ],
   "source": [
    "print(\"Résultat du chargement de 'mushrooms.txt', on obtient : \")\n",
    "Base_mushrooms = chargeBase('datasets/mushrooms.txt',delimiteur=',')\n",
    "#Base_mushrooms\n",
    "print(len(Base_mushrooms),' transactions.')"
   ]
  },
  {
   "cell_type": "code",
   "execution_count": 21,
   "metadata": {},
   "outputs": [
    {
     "name": "stdout",
     "output_type": "stream",
     "text": [
      "Pour la BASE précédente :\n",
      "{'ALMOND', 'ENLARGING', 'CREOSOTE', 'GRASSES', 'YELLOW', 'PATHS', 'BELL', 'FLARING', 'CINNAMON', 'CHOCOLATE', 'CROWDED', 'EVANESCENT', 'CLUSTERED', 'RED', 'BRUISES', 'EDIBLE', 'CLUB', 'SUNKEN', 'ATTACHED', 'TAPERING', 'ONE', 'LEAVES', 'FIBROUS', 'EQUAL', 'SPICY', 'WHITE', 'MUSTY', 'TWO', 'ANISE', 'ROOTED', 'FREE', 'CONICAL', 'FLAT', 'KNOBBED', 'URBAN', 'PINK', 'ABUNDANT', 'NARROW', 'SCATTERED', 'NO', 'BUFF', 'WASTE', 'PARTIAL', 'BLACK', 'FISHY', 'PUNGENT', 'PURPLE', 'PENDANT', 'NONE', 'GRAY', 'LARGE', 'GROOVES', 'SCALY', 'ORANGE', 'MEADOWS', 'WOODS', 'SEVERAL', 'POISONOUS', 'BROAD', 'GREEN', '?', 'SOLITARY', 'FOUL', 'SILKY', 'NUMEROUS', 'CLOSE', 'CONVEX', 'SMOOTH', 'BULBOUS', 'BROWN'}\n",
      "Exemple: singletons(Base_mushrooms) rend :\n",
      "[{'ALMOND'}, {'ENLARGING'}, {'CREOSOTE'}, {'GRASSES'}, {'YELLOW'}, {'PATHS'}, {'BELL'}, {'FLARING'}, {'CINNAMON'}, {'CHOCOLATE'}, {'CROWDED'}, {'EVANESCENT'}, {'CLUSTERED'}, {'RED'}, {'BRUISES'}, {'EDIBLE'}, {'CLUB'}, {'SUNKEN'}, {'ATTACHED'}, {'TAPERING'}, {'ONE'}, {'LEAVES'}, {'FIBROUS'}, {'EQUAL'}, {'SPICY'}, {'WHITE'}, {'MUSTY'}, {'TWO'}, {'ANISE'}, {'ROOTED'}, {'FREE'}, {'CONICAL'}, {'FLAT'}, {'KNOBBED'}, {'URBAN'}, {'PINK'}, {'ABUNDANT'}, {'NARROW'}, {'SCATTERED'}, {'NO'}, {'BUFF'}, {'WASTE'}, {'PARTIAL'}, {'BLACK'}, {'FISHY'}, {'PUNGENT'}, {'PURPLE'}, {'PENDANT'}, {'NONE'}, {'GRAY'}, {'LARGE'}, {'GROOVES'}, {'SCALY'}, {'ORANGE'}, {'MEADOWS'}, {'WOODS'}, {'SEVERAL'}, {'POISONOUS'}, {'BROAD'}, {'GREEN'}, {'?'}, {'SOLITARY'}, {'FOUL'}, {'SILKY'}, {'NUMEROUS'}, {'CLOSE'}, {'CONVEX'}, {'SMOOTH'}, {'BULBOUS'}, {'BROWN'}]\n"
     ]
    }
   ],
   "source": [
    "print(\"Pour la BASE précédente :\")\n",
    "print(noms_items(Base_mushrooms))\n",
    "print(\"Exemple: singletons(Base_mushrooms) rend :\")\n",
    "print(singletons(Base_mushrooms))"
   ]
  },
  {
   "cell_type": "code",
   "execution_count": 22,
   "metadata": {},
   "outputs": [
    {
     "name": "stdout",
     "output_type": "stream",
     "text": [
      "[({'ONE'}, 0.9230038022813688), ({'WHITE'}, 0.9771863117870723), ({'FREE'}, 0.9743346007604563), ({'PARTIAL'}, 1.0), ({'WHITE', 'ONE'}, 0.9001901140684411), ({'FREE', 'ONE'}, 0.9001901140684411), ({'ONE', 'PARTIAL'}, 0.9230038022813688), ({'FREE', 'WHITE'}, 0.9743346007604563), ({'WHITE', 'PARTIAL'}, 0.9771863117870723), ({'FREE', 'PARTIAL'}, 0.9743346007604563), ({'FREE', 'WHITE', 'ONE'}, 0.9001901140684411), ({'WHITE', 'ONE', 'PARTIAL'}, 0.9001901140684411), ({'FREE', 'ONE', 'PARTIAL'}, 0.9001901140684411), ({'FREE', 'WHITE', 'PARTIAL'}, 0.9743346007604563), ({'ONE', 'FREE', 'WHITE', 'PARTIAL'}, 0.9001901140684411)]\n"
     ]
    }
   ],
   "source": [
    "print(apriori(Base_mushrooms,0.9))"
   ]
  },
  {
   "cell_type": "code",
   "execution_count": 23,
   "metadata": {},
   "outputs": [
    {
     "name": "stdout",
     "output_type": "stream",
     "text": [
      "Résultat du chargement de 'titanic-red.csv', on obtient : \n",
      "741  transactions.\n"
     ]
    }
   ],
   "source": [
    "print(\"Résultat du chargement de 'titanic-red.csv', on obtient : \")\n",
    "Base_titanic = chargeBase('datasets/titanic-red.csv',delimiteur=',')\n",
    "print(len(Base_titanic),' transactions.')"
   ]
  },
  {
   "cell_type": "code",
   "execution_count": 24,
   "metadata": {},
   "outputs": [
    {
     "name": "stdout",
     "output_type": "stream",
     "text": [
      "Pour la BASE Titanic :\n",
      "Exemple: singletons(Base_titanic) rend :\n"
     ]
    },
    {
     "data": {
      "text/plain": [
       "[{'OmahaNE'},\n",
       " {'TuxedoParkNY'},\n",
       " {'NewYorkNYWashingtonDC'},\n",
       " {'RotterdamNetherlands'},\n",
       " {'Syria'},\n",
       " {'Ireland'},\n",
       " {'GlasgowBangorME'},\n",
       " {'FinlandMinneapolisMN'},\n",
       " {'MexicoCityMexico'},\n",
       " {'MerrillWI'},\n",
       " {'LosAngelesCA'},\n",
       " {'BaselSwitzerland'},\n",
       " {'TranvikFinlandNewYork'},\n",
       " {'WashingtonDC'},\n",
       " {'RuotsinphyhtaaFinlandNewYorkNY'},\n",
       " {'Liverpool'},\n",
       " {'EnglandDetroitMI'},\n",
       " {'KontiolahtiFinlandDetroitMI'},\n",
       " {'EastBridgewaterMA'},\n",
       " {'AughnacliffCoLongfordIrelandNewYorkNY'},\n",
       " {'SwedenWinnipegMN'},\n",
       " {'ClevedonEngland'},\n",
       " {'alive'},\n",
       " {'DuluthMN'},\n",
       " {'BirkdaleEnglandClevelandOhio'},\n",
       " {'BostonMA'},\n",
       " {'MedeltorpSwedenChicagoIL'},\n",
       " {'CornwallAkronOH'},\n",
       " {'SanFranciscoCA'},\n",
       " {'NorwichNewYorkNY'},\n",
       " {'RochesterNY'},\n",
       " {'BrunswickME'},\n",
       " {'LondonEnglandNorfolkVA'},\n",
       " {\"StAnne'sonSeaLancashire\"},\n",
       " {'BallydehobCoCorkIrelandNewYorkNY'},\n",
       " {'ParisNewYorkNY'},\n",
       " {'EnglandBenningtonVT'},\n",
       " {'ParisFrance'},\n",
       " {'AberdeenPortlandOR'},\n",
       " {'YoungstownOH'},\n",
       " {'BronxNY'},\n",
       " {'HongKongNewYorkNY'},\n",
       " {'WestHampsteadLondonNeepawaMB'},\n",
       " {'ZurichSwitzerland'},\n",
       " {'OskarshamnSwedenMinneapolisMN'},\n",
       " {'MontevideoUruguay'},\n",
       " {'BridgwaterSomersetEngland'},\n",
       " {'CoAthloneIrelandNewYorkNY'},\n",
       " {'WinnipegMB'},\n",
       " {'LondonMiddlesex'},\n",
       " {'Russia'},\n",
       " {'CornwallHoughtonMI'},\n",
       " {'KilmacowenCoSligoIrelandNewYorkNY'},\n",
       " {'SouthseaHants'},\n",
       " {'LondonStatenIslandNY'},\n",
       " {'MtAiryPhiladelphiaPA'},\n",
       " {'SwedenArlingtonNJ'},\n",
       " {'LondonVancouverBC'},\n",
       " {'BarreCoWashingtonVT'},\n",
       " {'Belfast'},\n",
       " {'SyriaFredericksburgVA'},\n",
       " {'MontrealPQChestervilleON'},\n",
       " {'FinlandWashingtonDC'},\n",
       " {'EastProvidenceRI'},\n",
       " {'HamiltonON'},\n",
       " {'ScituateMA'},\n",
       " {'TreherbertCardiffWales'},\n",
       " {'BishopstokeHantsFayetteValleyID'},\n",
       " {'Austria'},\n",
       " {'WorcesterEngland'},\n",
       " {'Croatia'},\n",
       " {'SpringfieldMA'},\n",
       " {'male'},\n",
       " {'ParisMontrealPQ'},\n",
       " {'NorwayLosAngelesCA'},\n",
       " {'SwedenAkeleyMN'},\n",
       " {'BromsgroveEnglandMontrealPQ'},\n",
       " {'HornseyEngland'},\n",
       " {'AustriaHungary'},\n",
       " {'CooperstownNY'},\n",
       " {'KingstonSurrey'},\n",
       " {'BarcelonaSpainHavanaCuba'},\n",
       " {'LimaPeru'},\n",
       " {'EnglandPhiladelphiaPA'},\n",
       " {'FondduLacWI'},\n",
       " {'SouthingtonNoankCT'},\n",
       " {'SittingbourneEnglandSanDiegoCA'},\n",
       " {'DetroitMI'},\n",
       " {'BerneSwitzerlandCentralCityIA'},\n",
       " {'HartfordCT'},\n",
       " {'ProvidenceRI'},\n",
       " {'TokyoJapan'},\n",
       " {'SeattleWA'},\n",
       " {'VadsbroSwedenMinisteeMI'},\n",
       " {'AustriaNiagaraFallsNY'},\n",
       " {'WinnipegMN'},\n",
       " {'BournmouthEngland'},\n",
       " {'DorkingSurreyEngland'},\n",
       " {'Cornwall'},\n",
       " {'DorchesterMA'},\n",
       " {'ProvoUT'},\n",
       " {'CornwallHancockMI'},\n",
       " {'SyriaNewYorkNY'},\n",
       " {'IrelandChicagoIL'},\n",
       " {'ElizabethNJ'},\n",
       " {'ItalyPhiladelphiaPA'},\n",
       " {'DevonEnglandWichitaKS'},\n",
       " {'HessleYorks'},\n",
       " {'IlfordEssexWinnipegMB'},\n",
       " {'home.dest'},\n",
       " {'BrooklynNY'},\n",
       " {'GermantownPhiladelphiaPA'},\n",
       " {'GreenBayWI'},\n",
       " {'CoCorkIrelandCharlestownMA'},\n",
       " {'ElkinsParkPA'},\n",
       " {'BrooklineMA'},\n",
       " {'AsarumSwedenBrooklynNY'},\n",
       " {'EnglandAlbionNY'},\n",
       " {'StIvesCornwallHoughtonMI'},\n",
       " {'LakewoodNJ'},\n",
       " {'ForesvikNorwayPortlandND'},\n",
       " {'CalgaryAB'},\n",
       " {'AustraliaFingalND'},\n",
       " {'Southampton'},\n",
       " {'VictoriaBC'},\n",
       " {'DenverCO'},\n",
       " {'UpperBurmaIndiaPittsburghPA'},\n",
       " {'HelsinkiFinlandAshtabulaOhio'},\n",
       " {'WestKensingtonLondon'},\n",
       " {'dead'},\n",
       " {'ChelseaLondon'},\n",
       " {'LondonBirmingham'},\n",
       " {'PomeroyWA'},\n",
       " {'IllinoisUSA'},\n",
       " {'DeephavenMNCedarRapidsIA'},\n",
       " {'FinlandSudburyON'},\n",
       " {'NorthEvingtonEngland'},\n",
       " {'StAustallCornwall'},\n",
       " {'PlymouthDevonDetroitMI'},\n",
       " {'GreenportNY'},\n",
       " {'EnglandSanFranciscoCA'},\n",
       " {'LuccaItalyCalifornia'},\n",
       " {'SyriaYoungstownOH'},\n",
       " {'Pennsylvania'},\n",
       " {'LondonWinnipegMB'},\n",
       " {'SomersetBernardsvilleNJ'},\n",
       " {'OttawaON'},\n",
       " {'CatfordKentDetroitMI'},\n",
       " {'HuntingtonWV'},\n",
       " {'FrankfortKY'},\n",
       " {'SarniaON'},\n",
       " {'GunnislakeEnglandButteMT'},\n",
       " {'MiddleburgHeightsOH'},\n",
       " {'IndiaRapidCitySD'},\n",
       " {'IsleofWightEngland'},\n",
       " {'StockholmSwedenWashingtonDC'},\n",
       " {'WiltshireEnglandNiagaraFallsNY'},\n",
       " {'TrentonNJ'},\n",
       " {'Glasgow'},\n",
       " {'LondonBrooklynNY'},\n",
       " {'StDenysSouthamptonHants'},\n",
       " {'BulgariaChicagoIL'},\n",
       " {'BaysideQueensNY'},\n",
       " {'StockholmSwedenNewYork'},\n",
       " {'LyndhurstEngland'},\n",
       " {'HaddenfieldNJ'},\n",
       " {'MamaroneckNY'},\n",
       " {'NewYorkNYIthacaNY'},\n",
       " {'DagsasSwedenFowerMN'},\n",
       " {'IrelandBrooklynNY'},\n",
       " {'HolleyNY'},\n",
       " {'CologneGermany'},\n",
       " {'GenevaSwitzerlandRadnorPA'},\n",
       " {'MoscowBronxNY'},\n",
       " {'EastOrangeNJ'},\n",
       " {'ManchesterEngland'},\n",
       " {'AntwerpBelgiumStantonOH'},\n",
       " {'SwedenWorcesterMA'},\n",
       " {'HartfordHuntingdonshire'},\n",
       " {'BridgeruleDevon'},\n",
       " {'DevonportEngland'},\n",
       " {'HaverfordPA'},\n",
       " {'KarbergSwedenJeromeJunctionAZ'},\n",
       " {'Spain'},\n",
       " {'BrightonSussex'},\n",
       " {'ParisFranceNewYorkNY'},\n",
       " {'ChicagoIL'},\n",
       " {'IndianapolisIN'},\n",
       " {'WestonSuperMareMooseJawSK'},\n",
       " {'JacksonvilleFL'},\n",
       " {'London'},\n",
       " {'female'},\n",
       " {'SwedenJolietIL'},\n",
       " {'BournemouthEnglandNewarkNJ'},\n",
       " {'ColumbusOH'},\n",
       " {'IsleworthEngland'},\n",
       " {'MadridSpain'},\n",
       " {'LowerClaptonMiddlesexorErdingtonBirmingham'},\n",
       " {'NiceFrance'},\n",
       " {'BuenosAiresArgentinaNewJerseyNJ'},\n",
       " {'LittleOnnHallStaffs'},\n",
       " {'BristolEnglandNewBritainCT'},\n",
       " {'NorrlotSwedenChicagoIL'},\n",
       " {'PerkinsCountySD'},\n",
       " {'ToftaSwedenJolietIL'},\n",
       " {'Cherbourg'},\n",
       " {'StroodKentEnglandDetroitMI'},\n",
       " {'RussiaNewYorkNY'},\n",
       " {'RuotsinphytaaFinlandNewYorkNY'},\n",
       " {'survived'},\n",
       " {'MinneapolisMN'},\n",
       " {'GreenwichCT'},\n",
       " {'LondonSkantealesNY'},\n",
       " {'BrocktonMA'},\n",
       " {'NewYorkNYGreenwichCT'},\n",
       " {'StJamesLongIslandNY'},\n",
       " {'HalifaxNS'},\n",
       " {'SyriaKentON'},\n",
       " {'StoughtonMA'},\n",
       " {'HudsonNY'},\n",
       " {'AltdorfSwitzerland'},\n",
       " {'CornwallEnglandHoughtonMI'},\n",
       " {'IrelandPhiladelphiaPA'},\n",
       " {'KingwilliamstownCoCorkIrelandGlensFallsNY'},\n",
       " {'BrynMawrPAUSA'},\n",
       " {'WestBromwichEnglandPontiacMI'},\n",
       " {'DowagiacMI'},\n",
       " {'PenzanceCornwallAkronOH'},\n",
       " {'VancouverBC'},\n",
       " {'SurbitonHillSurrey'},\n",
       " {'LondonEnglandMariettaOhioandMilwaukeeWI'},\n",
       " {'pclass'},\n",
       " {'SyriaOttawaON'},\n",
       " {'KrakorydSwedenBloomingtonIL'},\n",
       " {'WaukeganChicagoIL'},\n",
       " {'LondonEngland'},\n",
       " {'KingwilliamstownCoCorkIrelandNewYorkNY'},\n",
       " {'JanjgirIndiaPennsylvania'},\n",
       " {'EnglandOglesbyIL'},\n",
       " {'2nd'},\n",
       " {'PhiladelphiaPA'},\n",
       " {'DenmarkHillSurreyChicago'},\n",
       " {'SwedenChicagoIL'},\n",
       " {'PetworthSussex'},\n",
       " {'CoSligoIrelandHartfordCT'},\n",
       " {'CopenhagenDenmark'},\n",
       " {'UnionHillNJ'},\n",
       " {'CoSligoIrelandNewYorkNY'},\n",
       " {'BroomfieldChelmsfordEngland'},\n",
       " {'BuffaloNY'},\n",
       " {'Argentina'},\n",
       " {'IndiaPittsburghPA'},\n",
       " {'StLeonardsonSeaEnglandOhio'},\n",
       " {'HarrisburgPA'},\n",
       " {'LondonChicagoIL'},\n",
       " {'GallipolisOhioParisNewYork'},\n",
       " {'PlymouthEngland'},\n",
       " {'WindsorEnglandNewYorkNY'},\n",
       " {'GuernseyMontclairNJand/orToledoOhio'},\n",
       " {'SydneyAustralia'},\n",
       " {'AuburnNY'},\n",
       " {'BournemouthEngland'},\n",
       " {'HalesworthEngland'},\n",
       " {'WestonSuperMareSomerset'},\n",
       " {'EnglandBrooklynNY'},\n",
       " {'BelmontMA'},\n",
       " {'ParisHaiti'},\n",
       " {'OsloNorwayCameronWI'},\n",
       " {'AmeniaND'},\n",
       " {'SwindonEngland'},\n",
       " {'GreensburgPA'},\n",
       " {'EnglandSacramentoCA'},\n",
       " {'1st'},\n",
       " {'NewForestEngland'},\n",
       " {'GuernseyWilmingtonDE'},\n",
       " {'Paris'},\n",
       " {'HaverfordPACooperstownNY'},\n",
       " {'StAndrewsGuernsey'},\n",
       " {'MontrealPQ'},\n",
       " {'CoLimerickIrelandSherbrookePQ'},\n",
       " {'HarrowEngland'},\n",
       " {'StockholmSweden'},\n",
       " {'NewYorkNYStamfordCT'},\n",
       " {'WalthamstowEngland'},\n",
       " {'SaultStMarieON'},\n",
       " {'StantonIA'},\n",
       " {'EffingtonRutSD'},\n",
       " {'BelfastNI'},\n",
       " {'BulgariaCoonRapidsIA'},\n",
       " {'NewYorkNY'},\n",
       " {'BelgiumDetroitMI'},\n",
       " {'BristolAvonJacksonvilleFL'},\n",
       " {'CapeTownSouthAfricaSeattleWA'},\n",
       " {'OsloNorwayBayonneNJ'},\n",
       " {'StIvesCornwallHancockMI'},\n",
       " {'WoodfordCountyKY'},\n",
       " {'AlbanyNY'},\n",
       " {'PondersendEnglandNewDurhamNJ'},\n",
       " {'RoachdaleIN'},\n",
       " {'TampicoMT'},\n",
       " {'IrelandNewYorkNY'},\n",
       " {'NewarkNJ'},\n",
       " {'AustriaHungaryGermantownPhiladelphiaPA'},\n",
       " {'LexingtonMA'},\n",
       " {'StIvesCornwallCalumetMI'},\n",
       " {'CambridgeMA'},\n",
       " {'NewBritainCT'},\n",
       " {'WestHavenCT'},\n",
       " {'MilfordNH'},\n",
       " {'LondonEastOrangeNJ'},\n",
       " {'embarked'},\n",
       " {'BristolEnglandClevelandOH'},\n",
       " {'Portugal'},\n",
       " {'GlenRidgeNJ'},\n",
       " {'BenningtonVT'},\n",
       " {'EnglandHartfordCT'},\n",
       " {'BelgiumMontrealPQ'},\n",
       " {'GunturIndiaBentonHarbourMI'},\n",
       " {'BergenNorway'},\n",
       " {'GuernseyElizabethNJ'},\n",
       " {'CornwallClearCreekCO'},\n",
       " {'MilwaukeeWI'},\n",
       " {'CoCorkIrelandRoxburyMA'},\n",
       " {'CoClareIrelandWashingtonDC'},\n",
       " {'StreathamSurrey'},\n",
       " {'England'},\n",
       " {'SaloFinlandAstoriaOR'},\n",
       " {'sex'},\n",
       " {'Queenstown'},\n",
       " {'SkaraSwedenRockfordIL'},\n",
       " {'IlfracombeDevon'},\n",
       " {'LakeArthurChavezCountyNM'},\n",
       " {'AscotBerkshireRochesterNY'},\n",
       " {'CornwallSpokaneWA'},\n",
       " {'Greece'},\n",
       " {'WorcesterMA'},\n",
       " {'TaalintehdasFinlandHobokenNJ'},\n",
       " {'StLouisMO'},\n",
       " {'EnglandSaltLakeCityUtah'},\n",
       " {'WimbledonParkLondonHaylingIslandHants'},\n",
       " {'BrynMawrPA'},\n",
       " {'LondonMontrealPQ'},\n",
       " {'BrennesNorwayNewYork'},\n",
       " {'BangkokThailandRosevilleIL'},\n",
       " {'GoteborgSwedenHuntleyIL'},\n",
       " {'WestHobokenNJ'},\n",
       " {'MyrenSwedenNewYorkNY'},\n",
       " {'RotherfieldSussexEnglandEssexCoMA'},\n",
       " {'ElmiraNYOrangeNJ'},\n",
       " {'BathEnglandMassachusetts'},\n",
       " {'HarrowontheHillMiddlesex'},\n",
       " {'SpainHavanaCuba'},\n",
       " {'LiverpoolEnglandBedfordOH'},\n",
       " {'GuernseyEnglandEdgewoodRI'},\n",
       " {'KrakuddenSwedenMouneIL'},\n",
       " {'DenmarkNewYorkNY'},\n",
       " {'CoLongfordIrelandNewYorkNY'},\n",
       " {'SouthamptonNewYorkNY'},\n",
       " {'EnglandNewYorkNY'},\n",
       " {'3rd'},\n",
       " {'GoteborgSwedenRockfordIL'},\n",
       " {'LondonNewYorkNY'},\n",
       " {'LondonParis'},\n",
       " {'DeerLodgeMT'},\n",
       " {'WarwickEngland'},\n",
       " {'Guernsey'},\n",
       " {'LiverpoolMontrealPQ'},\n",
       " {'WestcliffonSeaEssex'},\n",
       " {'LondonFortByronNY'},\n",
       " {'TorontoON'},\n",
       " {'FolkstoneKentNewYorkNY'},\n",
       " {'CornwallCamdenNJ'},\n",
       " {'NewYorkNYBriarcliffManorNY'},\n",
       " {'PlymouthDorsetHoughtonMI'},\n",
       " {'SeattleWAToledoOH'},\n",
       " {'BrightonMA'},\n",
       " {'PortlandOR'},\n",
       " {'YoevilEnglandCottageGroveOR'}]"
      ]
     },
     "execution_count": 24,
     "metadata": {},
     "output_type": "execute_result"
    }
   ],
   "source": [
    "# décommenter les lignes suivantes:\n",
    "\n",
    "print(\"Pour la BASE Titanic :\")\n",
    "noms_items(Base_titanic)\n",
    "\n",
    "print(\"Exemple: singletons(Base_titanic) rend :\")\n",
    "singletons(Base_titanic)"
   ]
  },
  {
   "cell_type": "code",
   "execution_count": 25,
   "metadata": {},
   "outputs": [
    {
     "name": "stdout",
     "output_type": "stream",
     "text": [
      "[({'Southampton', 'alive', 'female'}, 0.203778677462888), ({'2nd', 'male'}, 0.20647773279352227), ({'Southampton', '1st'}, 0.20917678812415655), ({'1st', 'male'}, 0.21997300944669365), ({'1st', 'alive'}, 0.23076923076923078), ({'Cherbourg'}, 0.23751686909581646), ({'Southampton', 'female'}, 0.2483130904183536), ({'3rd'}, 0.27125506072874495), ({'Southampton', 'alive'}, 0.2982456140350877), ({'Southampton', '2nd'}, 0.30634278002699056), ({'alive', 'female'}, 0.32388663967611336), ({'2nd'}, 0.3481781376518219), ({'Southampton', 'dead', 'male'}, 0.3684210526315789), ({'1st'}, 0.3792172739541161), ({'female'}, 0.38866396761133604), ({'Southampton', 'dead'}, 0.41295546558704455), ({'Southampton', 'male'}, 0.46288798920377866), ({'alive'}, 0.4642375168690958), ({'dead', 'male'}, 0.46963562753036436), ({'dead'}, 0.5344129554655871), ({'male'}, 0.6099865047233468), ({'Southampton'}, 0.7112010796221323)]\n",
      "[({'alive'}, 0.4642375168690958), ({'male'}, 0.6099865047233468), ({'Southampton'}, 0.7112010796221323), ({'dead'}, 0.5344129554655871), ({'female'}, 0.38866396761133604), ({'Cherbourg'}, 0.23751686909581646), ({'2nd'}, 0.3481781376518219), ({'1st'}, 0.3792172739541161), ({'3rd'}, 0.27125506072874495), ({'Southampton', 'alive'}, 0.2982456140350877), ({'alive', 'female'}, 0.32388663967611336), ({'1st', 'alive'}, 0.23076923076923078), ({'Southampton', 'male'}, 0.46288798920377866), ({'dead', 'male'}, 0.46963562753036436), ({'2nd', 'male'}, 0.20647773279352227), ({'1st', 'male'}, 0.21997300944669365), ({'Southampton', 'dead'}, 0.41295546558704455), ({'Southampton', 'female'}, 0.2483130904183536), ({'Southampton', '2nd'}, 0.30634278002699056), ({'Southampton', '1st'}, 0.20917678812415655), ({'Southampton', 'alive', 'female'}, 0.203778677462888), ({'Southampton', 'dead', 'male'}, 0.3684210526315789)]\n",
      "({'dead', 'male'}, 0.46963562753036436)\n",
      "({'Southampton', 'male'}, 0.46288798920377866)\n",
      "({'Southampton', 'dead'}, 0.41295546558704455)\n",
      "({'Southampton', 'dead', 'male'}, 0.3684210526315789)\n",
      "({'alive', 'female'}, 0.32388663967611336)\n",
      "({'Southampton', '2nd'}, 0.30634278002699056)\n",
      "({'Southampton', 'alive'}, 0.2982456140350877)\n",
      "({'Southampton', 'female'}, 0.2483130904183536)\n",
      "({'1st', 'alive'}, 0.23076923076923078)\n",
      "({'1st', 'male'}, 0.21997300944669365)\n",
      "({'Southampton', '1st'}, 0.20917678812415655)\n",
      "({'2nd', 'male'}, 0.20647773279352227)\n",
      "({'Southampton', 'alive', 'female'}, 0.203778677462888)\n"
     ]
    }
   ],
   "source": [
    "Lres = apriori(Base_titanic,0.2)\n",
    "\n",
    "# tri sur les valeurs de supports:\n",
    "print(sorted(Lres, key=lambda data: data[1]))\n",
    "\n",
    "# tri sur la taille des itemsets\n",
    "print(sorted(Lres, key=lambda data: len(data[0])))\n",
    "\n",
    "for t in sorted(Lres, key=lambda data: data[1],reverse = True):\n",
    "    if len(t[0])>1:\n",
    "        print(t)\n"
   ]
  },
  {
   "cell_type": "markdown",
   "metadata": {},
   "source": [
    "<font color=\"RED\" size=\"+1\">**[Q]**</font>  Utiliser l'éxécutable <code>apriori</code> pour générer des règles d'association (voir les différentes options en annexe) sur les différentes bases de données fournies. Tester différents seuils (support et confiance). "
   ]
  },
  {
   "cell_type": "code",
   "execution_count": 26,
   "metadata": {},
   "outputs": [
    {
     "name": "stdout",
     "output_type": "stream",
     "text": [
      "./apriori32 - find frequent item sets with the apriori algorithm\n",
      "version 6.17 (2015.02.25)        (c) 1996-2015   Christian Borgelt\n",
      "reading datasets/exemple-1.txt ... [5 item(s), 10 transaction(s)] done [0.00s].\n",
      "building transaction tree ... [13 node(s)] done [0.00s].\n",
      "checking subsets of size 1 2 3 4 done [0.00s].\n",
      "writing test1.out ... [9 rule(s)] done [0.00s].\n"
     ]
    }
   ],
   "source": [
    "!./apriori32 -tr datasets/exemple-1.txt test1.out"
   ]
  },
  {
   "cell_type": "code",
   "execution_count": 27,
   "metadata": {},
   "outputs": [
    {
     "name": "stdout",
     "output_type": "stream",
     "text": [
      "d <- e a (10, 100)\n",
      "d <- e c (10, 100)\n",
      "d <- e (30, 100)\n",
      "b <- a c d (20, 100)\n",
      "c <- a b (50, 80)\n",
      "b <- a c (40, 100)\n",
      "b <- a (60, 83.3333)\n",
      "c <- b (70, 85.7143)\n",
      "b <- c (70, 85.7143)\n"
     ]
    }
   ],
   "source": [
    "!cat test1.out"
   ]
  },
  {
   "cell_type": "code",
   "execution_count": 28,
   "metadata": {},
   "outputs": [
    {
     "name": "stdout",
     "output_type": "stream",
     "text": [
      "./apriori32 - find frequent item sets with the apriori algorithm\n",
      "version 6.17 (2015.02.25)        (c) 1996-2015   Christian Borgelt\n",
      "reading datasets/mushrooms.txt ... [70 item(s), 8416 transaction(s)] done [0.01s].\n",
      "building transaction tree ... [62 node(s)] done [0.00s].\n",
      "checking subsets of size 1 2 3 4 5 done [0.00s].\n",
      "writing test2.out ... [102 rule(s)] done [0.00s].\n"
     ]
    }
   ],
   "source": [
    "!./apriori32 -tr -s70 -m2 -n5 datasets/mushrooms.txt test2.out"
   ]
  },
  {
   "cell_type": "code",
   "execution_count": 29,
   "metadata": {},
   "outputs": [
    {
     "name": "stdout",
     "output_type": "stream",
     "text": [
      "CLOSE <- SMOOTH ONE PARTIAL (72.1245, 81.0544)\n",
      "CLOSE <- SMOOTH ONE (72.1245, 81.0544)\n",
      "ONE <- SMOOTH FREE WHITE PARTIAL (76.4496, 91.3584)\n",
      "ONE <- SMOOTH FREE WHITE (76.4496, 91.3584)\n",
      "FREE <- SMOOTH ONE PARTIAL (72.1245, 96.8369)\n",
      "ONE <- SMOOTH FREE PARTIAL (76.4496, 91.3584)\n",
      "FREE <- SMOOTH ONE (72.1245, 96.8369)\n",
      "ONE <- SMOOTH FREE (76.4496, 91.3584)\n",
      "WHITE <- SMOOTH ONE PARTIAL (72.1245, 96.8369)\n",
      "ONE <- SMOOTH WHITE PARTIAL (76.4496, 91.3584)\n",
      "WHITE <- SMOOTH ONE (72.1245, 96.8369)\n",
      "ONE <- SMOOTH WHITE (76.4496, 91.3584)\n",
      "PARTIAL <- SMOOTH ONE (72.1245, 100)\n",
      "ONE <- SMOOTH PARTIAL (78.731, 91.6088)\n",
      "ONE <- SMOOTH (78.731, 91.6088)\n",
      "PARTIAL <- SMOOTH FREE WHITE (76.4496, 100)\n",
      "WHITE <- SMOOTH FREE PARTIAL (76.4496, 100)\n",
      "FREE <- SMOOTH WHITE PARTIAL (76.4496, 100)\n",
      "WHITE <- SMOOTH FREE (76.4496, 100)\n",
      "FREE <- SMOOTH WHITE (76.4496, 100)\n",
      "PARTIAL <- SMOOTH FREE (76.4496, 100)\n",
      "FREE <- SMOOTH PARTIAL (78.731, 97.1023)\n",
      "FREE <- SMOOTH (78.731, 97.1023)\n",
      "PARTIAL <- SMOOTH WHITE (76.4496, 100)\n",
      "WHITE <- SMOOTH PARTIAL (78.731, 97.1023)\n",
      "WHITE <- SMOOTH (78.731, 97.1023)\n",
      "PARTIAL <- SMOOTH (78.731, 100)\n",
      "PARTIAL <- CLOSE ONE FREE WHITE (74.5247, 100)\n",
      "WHITE <- CLOSE ONE FREE PARTIAL (74.5247, 100)\n",
      "FREE <- CLOSE ONE WHITE PARTIAL (74.5247, 100)\n",
      "ONE <- CLOSE FREE WHITE PARTIAL (78.5171, 94.9153)\n",
      "CLOSE <- ONE FREE WHITE PARTIAL (90.019, 82.7878)\n",
      "WHITE <- CLOSE ONE FREE (74.5247, 100)\n",
      "FREE <- CLOSE ONE WHITE (74.5247, 100)\n",
      "ONE <- CLOSE FREE WHITE (78.5171, 94.9153)\n",
      "CLOSE <- ONE FREE WHITE (90.019, 82.7878)\n",
      "PARTIAL <- CLOSE ONE FREE (74.5247, 100)\n",
      "FREE <- CLOSE ONE PARTIAL (76.8061, 97.0297)\n",
      "ONE <- CLOSE FREE PARTIAL (78.5171, 94.9153)\n",
      "CLOSE <- ONE FREE PARTIAL (90.019, 82.7878)\n",
      "FREE <- CLOSE ONE (76.8061, 97.0297)\n",
      "ONE <- CLOSE FREE (78.5171, 94.9153)\n",
      "CLOSE <- ONE FREE (90.019, 82.7878)\n",
      "PARTIAL <- CLOSE ONE WHITE (74.5247, 100)\n",
      "WHITE <- CLOSE ONE PARTIAL (76.8061, 97.0297)\n",
      "ONE <- CLOSE WHITE PARTIAL (78.8023, 94.5718)\n",
      "CLOSE <- ONE WHITE PARTIAL (90.019, 82.7878)\n",
      "WHITE <- CLOSE ONE (76.8061, 97.0297)\n",
      "ONE <- CLOSE WHITE (78.8023, 94.5718)\n",
      "CLOSE <- ONE WHITE (90.019, 82.7878)\n",
      "PARTIAL <- CLOSE ONE (76.8061, 100)\n",
      "ONE <- CLOSE PARTIAL (81.0837, 94.7245)\n",
      "CLOSE <- ONE PARTIAL (92.3004, 83.2132)\n",
      "ONE <- CLOSE (81.0837, 94.7245)\n",
      "CLOSE <- ONE (92.3004, 83.2132)\n",
      "PARTIAL <- CLOSE FREE WHITE (78.5171, 100)\n",
      "WHITE <- CLOSE FREE PARTIAL (78.5171, 100)\n",
      "FREE <- CLOSE WHITE PARTIAL (78.8023, 99.6381)\n",
      "CLOSE <- FREE WHITE PARTIAL (97.4335, 80.5854)\n",
      "WHITE <- CLOSE FREE (78.5171, 100)\n",
      "FREE <- CLOSE WHITE (78.8023, 99.6381)\n",
      "CLOSE <- FREE WHITE (97.4335, 80.5854)\n",
      "PARTIAL <- CLOSE FREE (78.5171, 100)\n",
      "FREE <- CLOSE PARTIAL (81.0837, 96.8347)\n",
      "CLOSE <- FREE PARTIAL (97.4335, 80.5854)\n",
      "FREE <- CLOSE (81.0837, 96.8347)\n",
      "CLOSE <- FREE (97.4335, 80.5854)\n",
      "PARTIAL <- CLOSE WHITE (78.8023, 100)\n",
      "WHITE <- CLOSE PARTIAL (81.0837, 97.1864)\n",
      "CLOSE <- WHITE PARTIAL (97.7186, 80.642)\n",
      "WHITE <- CLOSE (81.0837, 97.1864)\n",
      "CLOSE <- WHITE (97.7186, 80.642)\n",
      "PARTIAL <- CLOSE (81.0837, 100)\n",
      "CLOSE <- PARTIAL (100, 81.0837)\n",
      "PARTIAL <- ONE FREE WHITE (90.019, 100)\n",
      "WHITE <- ONE FREE PARTIAL (90.019, 100)\n",
      "FREE <- ONE WHITE PARTIAL (90.019, 100)\n",
      "ONE <- FREE WHITE PARTIAL (97.4335, 92.3902)\n",
      "WHITE <- ONE FREE (90.019, 100)\n",
      "FREE <- ONE WHITE (90.019, 100)\n",
      "ONE <- FREE WHITE (97.4335, 92.3902)\n",
      "PARTIAL <- ONE FREE (90.019, 100)\n",
      "FREE <- ONE PARTIAL (92.3004, 97.5283)\n",
      "ONE <- FREE PARTIAL (97.4335, 92.3902)\n",
      "FREE <- ONE (92.3004, 97.5283)\n",
      "ONE <- FREE (97.4335, 92.3902)\n",
      "PARTIAL <- ONE WHITE (90.019, 100)\n",
      "WHITE <- ONE PARTIAL (92.3004, 97.5283)\n",
      "ONE <- WHITE PARTIAL (97.7186, 92.1206)\n",
      "WHITE <- ONE (92.3004, 97.5283)\n",
      "ONE <- WHITE (97.7186, 92.1206)\n",
      "PARTIAL <- ONE (92.3004, 100)\n",
      "ONE <- PARTIAL (100, 92.3004)\n",
      "PARTIAL <- FREE WHITE (97.4335, 100)\n",
      "WHITE <- FREE PARTIAL (97.4335, 100)\n",
      "FREE <- WHITE PARTIAL (97.7186, 99.7082)\n",
      "WHITE <- FREE (97.4335, 100)\n",
      "FREE <- WHITE (97.7186, 99.7082)\n",
      "PARTIAL <- FREE (97.4335, 100)\n",
      "FREE <- PARTIAL (100, 97.4335)\n",
      "PARTIAL <- WHITE (97.7186, 100)\n",
      "WHITE <- PARTIAL (100, 97.7186)\n"
     ]
    }
   ],
   "source": [
    "!cat test2.out"
   ]
  },
  {
   "cell_type": "code",
   "execution_count": 30,
   "metadata": {},
   "outputs": [
    {
     "name": "stdout",
     "output_type": "stream",
     "text": [
      "./apriori32 - find frequent item sets with the apriori algorithm\n",
      "version 6.17 (2015.02.25)        (c) 1996-2015   Christian Borgelt\n",
      "reading datasets/titanic-red.csv ... [378 item(s), 741 transaction(s)] done [0.00s].\n",
      "building transaction tree ... [48 node(s)] done [0.00s].\n",
      "checking subsets of size 1 2 3 4 done [0.00s].\n",
      "writing test3.out ... [7 rule(s)] done [0.00s].\n"
     ]
    }
   ],
   "source": [
    "!./apriori32 -tr -s20 -m2 -n5 datasets/titanic-red.csv test3.out"
   ]
  },
  {
   "cell_type": "code",
   "execution_count": 32,
   "metadata": {},
   "outputs": [
    {
     "name": "stdout",
     "output_type": "stream",
     "text": [
      "dead <- 2nd male (20.6478, 83.6601)\n",
      "Southampton <- 2nd male (20.6478, 88.2353)\n",
      "Southampton <- 2nd (34.8178, 87.9845)\n",
      "alive <- female Southampton (24.8313, 82.0652)\n",
      "alive <- female (38.8664, 83.3333)\n",
      "male <- dead Southampton (41.2955, 89.2157)\n",
      "male <- dead (53.4413, 87.8788)\n"
     ]
    }
   ],
   "source": [
    "!cat test3.out"
   ]
  },
  {
   "cell_type": "markdown",
   "metadata": {},
   "source": [
    "<font color=\"RED\" size=\"+1\">**[Q]**</font>   Ajouter les deux mesures d'intérêt vues en TD (lift et RR) et afficher leurs valeurs pour chaque règle trouvée. Ajouter un argument au programme afin de pouvoir sélectionner une de ces mesures pour éliminer les règles inintéressantes.\n"
   ]
  },
  {
   "cell_type": "code",
   "execution_count": 33,
   "metadata": {},
   "outputs": [
    {
     "name": "stdout",
     "output_type": "stream",
     "text": [
      "./apriori32 - find frequent item sets with the apriori algorithm\n",
      "version 6.17 (2015.02.25)        (c) 1996-2015   Christian Borgelt\n",
      "reading datasets/titanic-red.csv ... [378 item(s), 741 transaction(s)] done [0.00s].\n",
      "building transaction tree ... [48 node(s)] done [0.00s].\n",
      "checking subsets of size 1 2 3 4 done [0.00s].\n",
      "writing test4.out ... [3 rule(s)] done [0.00s].\n"
     ]
    }
   ],
   "source": [
    "# lift correspond à l'option -el d'après la documentation fournie + -d pour définir la borne inf de cette mesure\n",
    "\n",
    "!./apriori32 -tr -s20 -m2 -n5 -el -d150 datasets/titanic-red.csv test4.out"
   ]
  },
  {
   "cell_type": "code",
   "execution_count": 34,
   "metadata": {},
   "outputs": [
    {
     "name": "stdout",
     "output_type": "stream",
     "text": [
      "dead <- 2nd male (20.6478, 83.6601)\n",
      "alive <- female Southampton (24.8313, 82.0652)\n",
      "alive <- female (38.8664, 83.3333)\n"
     ]
    }
   ],
   "source": [
    "!cat test4.out"
   ]
  },
  {
   "cell_type": "code",
   "execution_count": 35,
   "metadata": {},
   "outputs": [],
   "source": [
    "# Pour RR, nous allons avoir besoin de l'implémenter en brut :"
   ]
  },
  {
   "cell_type": "code",
   "execution_count": 49,
   "metadata": {},
   "outputs": [],
   "source": [
    "def read_transacs(file):\n",
    "    A = []\n",
    "    B = []\n",
    "    with open(file, 'r') as source:\n",
    "        for line in source:\n",
    "            tmp = line.rstrip().split(\" <- \")\n",
    "            A.append(tmp[0])\n",
    "            tmp2 = set(tmp[1].split(' ')[:-2])\n",
    "            B.append(tmp2)\n",
    "    \n",
    "    return A,B"
   ]
  },
  {
   "cell_type": "code",
   "execution_count": 50,
   "metadata": {},
   "outputs": [],
   "source": [
    "A,B = read_transacs('test3.out')"
   ]
  },
  {
   "cell_type": "code",
   "execution_count": 51,
   "metadata": {},
   "outputs": [],
   "source": [
    "def RR(a,b,A,B): # b -> a transaction entre deux éléments qui sont a dans A et b dans B\n",
    "    n_ba = 0\n",
    "    n_b = 0\n",
    "    n_bbara = 0\n",
    "    n_bbar = 0\n",
    "    i = 0\n",
    "    while i<len(A):\n",
    "        if B[i] == b:\n",
    "            n_b += 1\n",
    "            if A[i] == a:\n",
    "                n_ba += 1\n",
    "        else:\n",
    "            n_bbar += 1\n",
    "            if A[i] == a:\n",
    "                n_bbara += 1\n",
    "                \n",
    "        i += 1\n",
    "    \n",
    "    if n_b != 0 and n_bbara != 0:\n",
    "        return (n_ba / n_b) * (n_bbar / n_bbara)\n",
    "    else:\n",
    "        return \"RR non disponible (division par 0)\""
   ]
  },
  {
   "cell_type": "code",
   "execution_count": 52,
   "metadata": {},
   "outputs": [
    {
     "name": "stdout",
     "output_type": "stream",
     "text": [
      "RR(dead <- {'male', '2nd'}) : RR non disponible (division par 0)\n",
      "RR(Southampton <- {'male', '2nd'}) : 2.5\n",
      "RR(Southampton <- {'2nd'}) : 6.0\n",
      "RR(alive <- {'Southampton', 'female'}) : 6.0\n",
      "RR(alive <- {'female'}) : 6.0\n",
      "RR(male <- {'Southampton', 'dead'}) : 6.0\n",
      "RR(male <- {'dead'}) : 6.0\n"
     ]
    }
   ],
   "source": [
    "i=0\n",
    "while i<len(A):\n",
    "    print(\"RR(\"+A[i]+\" <- \"+str(B[i])+\") : \" + str(RR(A[i],B[i],A,B)))\n",
    "    i+=1"
   ]
  },
  {
   "cell_type": "markdown",
   "metadata": {},
   "source": [
    "<font color=\"RED\" size=\"+1\">**[Q]**</font>  Ajouter les deux mesures d'intérêt suivantes et afficher leurs valeurs\n",
    "  pour chaque règle trouvée. Ajouter un argument au programme afin de pouvoir sélectionner une de ces mesures pour éliminer les règles inintéressantes.\n",
    "  \n",
    "Par exemple:\n",
    "\n",
    "\\begin{align}\n",
    "  \\mbox{Interest}(X \\longrightarrow Y) & =  \\frac{P(X,Y)}{P(X)}P(Y) \\nonumber\\\\\n",
    " \\mbox{IS}(X \\longrightarrow Y) & =  \\frac{P(X,Y)}{\\sqrt{P(X)P(Y)}} \\nonumber\n",
    "\\end{align}"
   ]
  },
  {
   "cell_type": "code",
   "execution_count": 43,
   "metadata": {},
   "outputs": [],
   "source": [
    "def interest(a,b,A,B): # b -> a\n",
    "    n_ba = 0\n",
    "    n_a = 0\n",
    "    n_b = 0\n",
    "    i = 0\n",
    "    while i<len(A):\n",
    "        if A[i] == a:\n",
    "            n_a += 1\n",
    "        if B[i] == b:\n",
    "            n_b += 1\n",
    "        \n",
    "        if A[i] == a and B[i] == b:\n",
    "            n_ba += 1\n",
    "        \n",
    "                \n",
    "        i += 1\n",
    "    \n",
    "    if n_a != 0:\n",
    "        return (n_ba / n_b) * n_a\n",
    "    else:\n",
    "        return \"Interest non disponible (division par 0)\""
   ]
  },
  {
   "cell_type": "code",
   "execution_count": 44,
   "metadata": {},
   "outputs": [
    {
     "name": "stdout",
     "output_type": "stream",
     "text": [
      "(dead <- {'male', '2nd'}) : 0.5\n",
      "(Southampton <- {'male', '2nd'}) : 1.0\n",
      "(Southampton <- {'2nd'}) : 2.0\n",
      "(alive <- {'Southampton', 'female'}) : 2.0\n",
      "(alive <- {'female'}) : 2.0\n",
      "(male <- {'Southampton', 'dead'}) : 2.0\n",
      "(male <- {'dead'}) : 2.0\n"
     ]
    }
   ],
   "source": [
    "i=0\n",
    "while i<len(A):\n",
    "    print(\"(\"+A[i]+\" <- \"+str(B[i])+\") : \" + str(interest(A[i],B[i],A,B)))\n",
    "    i+=1"
   ]
  },
  {
   "cell_type": "code",
   "execution_count": 55,
   "metadata": {},
   "outputs": [],
   "source": [
    "def IS(a,b,A,B): # b -> a\n",
    "    n_ba = 0\n",
    "    n_a = 0\n",
    "    n_b = 0\n",
    "    i = 0\n",
    "    while i<len(A):\n",
    "        if A[i] == a:\n",
    "            n_a += 1\n",
    "        if B[i] == b:\n",
    "            n_b += 1\n",
    "        \n",
    "        if A[i] == a and B[i] == b:\n",
    "            n_ba += 1\n",
    "        \n",
    "                \n",
    "        i += 1\n",
    "    \n",
    "    if n_a*n_b != 0:\n",
    "        return n_ba / (n_b*n_a)**(1/2)\n",
    "    else:\n",
    "        return \"Interest non disponible (division par 0)\""
   ]
  },
  {
   "cell_type": "code",
   "execution_count": 56,
   "metadata": {},
   "outputs": [
    {
     "name": "stdout",
     "output_type": "stream",
     "text": [
      "(dead <- {'male', '2nd'}) : 0.7071067811865475\n",
      "(Southampton <- {'male', '2nd'}) : 0.5\n",
      "(Southampton <- {'2nd'}) : 0.7071067811865475\n",
      "(alive <- {'Southampton', 'female'}) : 0.7071067811865475\n",
      "(alive <- {'female'}) : 0.7071067811865475\n",
      "(male <- {'Southampton', 'dead'}) : 0.7071067811865475\n",
      "(male <- {'dead'}) : 0.7071067811865475\n"
     ]
    }
   ],
   "source": [
    "i=0\n",
    "while i<len(A):\n",
    "    print(\"(\"+A[i]+\" <- \"+str(B[i])+\") : \" + str(IS(A[i],B[i],A,B)))\n",
    "    i+=1"
   ]
  },
  {
   "cell_type": "markdown",
   "metadata": {},
   "source": [
    "### Utilisation de fp-growth"
   ]
  },
  {
   "cell_type": "markdown",
   "metadata": {},
   "source": [
    "<font color=\"RED\" size=\"+1\">**[Q]**</font>   Utiliser <code>fpgrowth</code> pour générer des règles d'association sur les différentes\n",
    "  bases de données. Comparer avec les résultats obtenus dans la section précédente. En  particulier, comparer les temps d'éxecution."
   ]
  },
  {
   "cell_type": "code",
   "execution_count": 58,
   "metadata": {},
   "outputs": [
    {
     "name": "stdout",
     "output_type": "stream",
     "text": [
      "./fpgrowth32 - find frequent item sets with the fpgrowth algorithm\n",
      "version 6.5 (2015.02.25)         (c) 2004-2014   Christian Borgelt\n",
      "reading datasets/exemple-1.txt ... [5 item(s), 10 transaction(s)] done [0.00s].\n",
      "filtering, sorting and recoding items ... [5 item(s)] done [0.00s].\n",
      "sorting and reducing transactions ... [8/10 transaction(s)] done [0.00s].\n",
      "finding frequent item set(s) ... done [0.00s].\n",
      "writing test1_fp.out ... [9 rule(s)] done [0.00s].\n",
      "b <- c (70, 85.7143)\n",
      "c <- b (70, 85.7143)\n",
      "b <- a (60, 83.3333)\n",
      "b <- a c (40, 100)\n",
      "c <- a b (50, 80)\n",
      "b <- a d c (20, 100)\n",
      "d <- e c (10, 100)\n",
      "d <- e (30, 100)\n",
      "d <- e a (10, 100)\n"
     ]
    }
   ],
   "source": [
    "!./fpgrowth32 -tr datasets/exemple-1.txt test1_fp.out\n",
    "!cat test1_fp.out"
   ]
  },
  {
   "cell_type": "code",
   "execution_count": 60,
   "metadata": {},
   "outputs": [
    {
     "name": "stdout",
     "output_type": "stream",
     "text": [
      "./fpgrowth32 - find frequent item sets with the fpgrowth algorithm\n",
      "version 6.5 (2015.02.25)         (c) 2004-2014   Christian Borgelt\n",
      "reading datasets/mushrooms.txt ... [70 item(s), 8416 transaction(s)] done [0.01s].\n",
      "filtering, sorting and recoding items ... [10 item(s)] done [0.00s].\n",
      "sorting and reducing transactions ... [37/8416 transaction(s)] done [0.00s].\n",
      "finding frequent item set(s) ... done [0.00s].\n",
      "writing test2_fp.out ... [102 rule(s)] done [0.00s].\n",
      "PARTIAL <- WHITE (97.7186, 100)\n",
      "WHITE <- PARTIAL (100, 97.7186)\n",
      "PARTIAL <- FREE (97.4335, 100)\n",
      "FREE <- PARTIAL (100, 97.4335)\n",
      "PARTIAL <- FREE WHITE (97.4335, 100)\n",
      "WHITE <- FREE PARTIAL (97.4335, 100)\n",
      "FREE <- WHITE PARTIAL (97.7186, 99.7082)\n",
      "WHITE <- FREE (97.4335, 100)\n",
      "FREE <- WHITE (97.7186, 99.7082)\n",
      "PARTIAL <- ONE (92.3004, 100)\n",
      "ONE <- PARTIAL (100, 92.3004)\n",
      "PARTIAL <- ONE WHITE (90.019, 100)\n",
      "WHITE <- ONE PARTIAL (92.3004, 97.5283)\n",
      "ONE <- WHITE PARTIAL (97.7186, 92.1206)\n",
      "WHITE <- ONE (92.3004, 97.5283)\n",
      "ONE <- WHITE (97.7186, 92.1206)\n",
      "PARTIAL <- ONE FREE (90.019, 100)\n",
      "FREE <- ONE PARTIAL (92.3004, 97.5283)\n",
      "ONE <- FREE PARTIAL (97.4335, 92.3902)\n",
      "PARTIAL <- ONE FREE WHITE (90.019, 100)\n",
      "WHITE <- ONE FREE PARTIAL (90.019, 100)\n",
      "FREE <- ONE WHITE PARTIAL (90.019, 100)\n",
      "ONE <- FREE WHITE PARTIAL (97.4335, 92.3902)\n",
      "WHITE <- ONE FREE (90.019, 100)\n",
      "FREE <- ONE WHITE (90.019, 100)\n",
      "ONE <- FREE WHITE (97.4335, 92.3902)\n",
      "FREE <- ONE (92.3004, 97.5283)\n",
      "ONE <- FREE (97.4335, 92.3902)\n",
      "PARTIAL <- CLOSE (81.0837, 100)\n",
      "CLOSE <- PARTIAL (100, 81.0837)\n",
      "PARTIAL <- CLOSE WHITE (78.8023, 100)\n",
      "WHITE <- CLOSE PARTIAL (81.0837, 97.1864)\n",
      "CLOSE <- WHITE PARTIAL (97.7186, 80.642)\n",
      "WHITE <- CLOSE (81.0837, 97.1864)\n",
      "CLOSE <- WHITE (97.7186, 80.642)\n",
      "PARTIAL <- CLOSE FREE (78.5171, 100)\n",
      "FREE <- CLOSE PARTIAL (81.0837, 96.8347)\n",
      "CLOSE <- FREE PARTIAL (97.4335, 80.5854)\n",
      "PARTIAL <- CLOSE FREE WHITE (78.5171, 100)\n",
      "WHITE <- CLOSE FREE PARTIAL (78.5171, 100)\n",
      "FREE <- CLOSE WHITE PARTIAL (78.8023, 99.6381)\n",
      "CLOSE <- FREE WHITE PARTIAL (97.4335, 80.5854)\n",
      "WHITE <- CLOSE FREE (78.5171, 100)\n",
      "FREE <- CLOSE WHITE (78.8023, 99.6381)\n",
      "CLOSE <- FREE WHITE (97.4335, 80.5854)\n",
      "FREE <- CLOSE (81.0837, 96.8347)\n",
      "CLOSE <- FREE (97.4335, 80.5854)\n",
      "PARTIAL <- CLOSE ONE (76.8061, 100)\n",
      "ONE <- CLOSE PARTIAL (81.0837, 94.7245)\n",
      "CLOSE <- ONE PARTIAL (92.3004, 83.2132)\n",
      "PARTIAL <- CLOSE ONE WHITE (74.5247, 100)\n",
      "WHITE <- CLOSE ONE PARTIAL (76.8061, 97.0297)\n",
      "ONE <- CLOSE WHITE PARTIAL (78.8023, 94.5718)\n",
      "CLOSE <- ONE WHITE PARTIAL (90.019, 82.7878)\n",
      "WHITE <- CLOSE ONE (76.8061, 97.0297)\n",
      "ONE <- CLOSE WHITE (78.8023, 94.5718)\n",
      "CLOSE <- ONE WHITE (90.019, 82.7878)\n",
      "PARTIAL <- CLOSE ONE FREE (74.5247, 100)\n",
      "FREE <- CLOSE ONE PARTIAL (76.8061, 97.0297)\n",
      "ONE <- CLOSE FREE PARTIAL (78.5171, 94.9153)\n",
      "CLOSE <- ONE FREE PARTIAL (90.019, 82.7878)\n",
      "PARTIAL <- CLOSE ONE FREE WHITE (74.5247, 100)\n",
      "WHITE <- CLOSE ONE FREE PARTIAL (74.5247, 100)\n",
      "FREE <- CLOSE ONE WHITE PARTIAL (74.5247, 100)\n",
      "ONE <- CLOSE FREE WHITE PARTIAL (78.5171, 94.9153)\n",
      "CLOSE <- ONE FREE WHITE PARTIAL (90.019, 82.7878)\n",
      "WHITE <- CLOSE ONE FREE (74.5247, 100)\n",
      "FREE <- CLOSE ONE WHITE (74.5247, 100)\n",
      "ONE <- CLOSE FREE WHITE (78.5171, 94.9153)\n",
      "CLOSE <- ONE FREE WHITE (90.019, 82.7878)\n",
      "FREE <- CLOSE ONE (76.8061, 97.0297)\n",
      "ONE <- CLOSE FREE (78.5171, 94.9153)\n",
      "CLOSE <- ONE FREE (90.019, 82.7878)\n",
      "ONE <- CLOSE (81.0837, 94.7245)\n",
      "CLOSE <- ONE (92.3004, 83.2132)\n",
      "PARTIAL <- SMOOTH (78.731, 100)\n",
      "PARTIAL <- SMOOTH WHITE (76.4496, 100)\n",
      "WHITE <- SMOOTH PARTIAL (78.731, 97.1023)\n",
      "WHITE <- SMOOTH (78.731, 97.1023)\n",
      "PARTIAL <- SMOOTH FREE (76.4496, 100)\n",
      "FREE <- SMOOTH PARTIAL (78.731, 97.1023)\n",
      "PARTIAL <- SMOOTH FREE WHITE (76.4496, 100)\n",
      "WHITE <- SMOOTH FREE PARTIAL (76.4496, 100)\n",
      "FREE <- SMOOTH WHITE PARTIAL (76.4496, 100)\n",
      "WHITE <- SMOOTH FREE (76.4496, 100)\n",
      "FREE <- SMOOTH WHITE (76.4496, 100)\n",
      "FREE <- SMOOTH (78.731, 97.1023)\n",
      "PARTIAL <- SMOOTH ONE (72.1245, 100)\n",
      "ONE <- SMOOTH PARTIAL (78.731, 91.6088)\n",
      "WHITE <- SMOOTH ONE PARTIAL (72.1245, 96.8369)\n",
      "ONE <- SMOOTH WHITE PARTIAL (76.4496, 91.3584)\n",
      "WHITE <- SMOOTH ONE (72.1245, 96.8369)\n",
      "ONE <- SMOOTH WHITE (76.4496, 91.3584)\n",
      "FREE <- SMOOTH ONE PARTIAL (72.1245, 96.8369)\n",
      "ONE <- SMOOTH FREE PARTIAL (76.4496, 91.3584)\n",
      "ONE <- SMOOTH FREE WHITE PARTIAL (76.4496, 91.3584)\n",
      "ONE <- SMOOTH FREE WHITE (76.4496, 91.3584)\n",
      "FREE <- SMOOTH ONE (72.1245, 96.8369)\n",
      "ONE <- SMOOTH FREE (76.4496, 91.3584)\n",
      "ONE <- SMOOTH (78.731, 91.6088)\n",
      "CLOSE <- SMOOTH ONE PARTIAL (72.1245, 81.0544)\n",
      "CLOSE <- SMOOTH ONE (72.1245, 81.0544)\n"
     ]
    }
   ],
   "source": [
    "!./fpgrowth32 -tr -s70 -m2 -n5 datasets/mushrooms.txt test2_fp.out\n",
    "!cat test2_fp.out"
   ]
  },
  {
   "cell_type": "code",
   "execution_count": 61,
   "metadata": {},
   "outputs": [
    {
     "name": "stdout",
     "output_type": "stream",
     "text": [
      "./fpgrowth32 - find frequent item sets with the fpgrowth algorithm\n",
      "version 6.5 (2015.02.25)         (c) 2004-2014   Christian Borgelt\n",
      "reading datasets/titanic-red.csv ... [378 item(s), 741 transaction(s)] done [0.00s].\n",
      "filtering, sorting and recoding items ... [9 item(s)] done [0.00s].\n",
      "sorting and reducing transactions ... [32/741 transaction(s)] done [0.00s].\n",
      "finding frequent item set(s) ... done [0.00s].\n",
      "writing test3_fp.out ... [7 rule(s)] done [0.00s].\n",
      "male <- dead Southampton (41.2955, 89.2157)\n",
      "male <- dead (53.4413, 87.8788)\n",
      "alive <- female Southampton (24.8313, 82.0652)\n",
      "alive <- female (38.8664, 83.3333)\n",
      "Southampton <- 2nd (34.8178, 87.9845)\n",
      "Southampton <- 2nd male (20.6478, 88.2353)\n",
      "dead <- 2nd male (20.6478, 83.6601)\n"
     ]
    }
   ],
   "source": [
    "!./fpgrowth32 -tr -s20 -m2 -n5 datasets/titanic-red.csv test3_fp.out\n",
    "!cat test3_fp.out"
   ]
  },
  {
   "cell_type": "code",
   "execution_count": 62,
   "metadata": {},
   "outputs": [
    {
     "name": "stdout",
     "output_type": "stream",
     "text": [
      "./apriori32 - find frequent item sets with the apriori algorithm\n",
      "version 6.17 (2015.02.25)        (c) 1996-2015   Christian Borgelt\n",
      "reading datasets/mushrooms.txt ... [70 item(s), 8416 transaction(s)] done [0.01s].\n",
      "building transaction tree ... [1688 node(s)] done [0.00s].\n",
      "checking subsets of size 1 2 3 4 5 done [0.00s].\n",
      "writing <null> ... [594 rule(s)] done [0.00s].\n",
      "./fpgrowth32 - find frequent item sets with the fpgrowth algorithm\n",
      "version 6.5 (2015.02.25)         (c) 2004-2014   Christian Borgelt\n",
      "reading datasets/mushrooms.txt ... [70 item(s), 8416 transaction(s)] done [0.02s].\n",
      "filtering, sorting and recoding items ... [26 item(s)] done [0.00s].\n",
      "sorting and reducing transactions ... [675/8416 transaction(s)] done [0.00s].\n",
      "finding frequent item set(s) ... done [0.00s].\n",
      "writing <null> ... [594 rule(s)] done [0.00s].\n",
      "FPGrowth est plus rapide que Apriori : 0.15517830848693848 s contre 0.12295222282409668 s\n"
     ]
    }
   ],
   "source": [
    "from time import time\n",
    "\n",
    "debut = time()\n",
    "!./apriori32 -trs50c70m2n5 datasets/mushrooms.txt\n",
    "fin = time()\n",
    "temps_apriori = fin - debut\n",
    "\n",
    "debut = time()\n",
    "!./fpgrowth32 -trs50c70m2n5 datasets/mushrooms.txt\n",
    "fin = time()\n",
    "temps_fpgrowth = fin - debut\n",
    "\n",
    "if temps_fpgrowth > temps_apriori:\n",
    "    print(\"FPGrowth est plus rapide que Apriori :\", temps_fpgrowth, \"s contre\", temps_apriori, \"s\")\n",
    "elif temps_fpgrowth < temps_apriori:\n",
    "    print(\"Apriori est plus rapide que FPGrowth :\", temps_apriori, \"s contre\", temps_fpgrowth, \"s\")\n",
    "else:\n",
    "    print(\"Les deux algos sont équivalents en temmps d'exécution (\"+ str(temps_fpgrowth) + \"s chacun.\")"
   ]
  },
  {
   "cell_type": "markdown",
   "metadata": {},
   "source": [
    "<font color=\"RED\" size=\"+1\">**[Q]**</font>  En essayant différentes valeurs de seuil, tester la génération de règles d'association intéressantes sur les bases de données fournies."
   ]
  },
  {
   "cell_type": "code",
   "execution_count": null,
   "metadata": {},
   "outputs": [],
   "source": []
  },
  {
   "cell_type": "markdown",
   "metadata": {},
   "source": [
    "## Annexes: utilisation des exécutables *apriori* et *fpgrowth*\n",
    "\n",
    "La documentation complète de ces programmes est disponible aux URL suivantes:\n",
    "- pour *apriori*: https://www.borgelt.net/doc/apriori/apriori.html\n",
    "- pour *fp-growth*: https://www.borgelt.net/doc/fpgrowth/fpgrowth.html\n",
    "\n",
    "\n",
    "Leur format d'utilisation général est:\n",
    "\n",
    "        ./<programme> [options] infile [outfile]\n",
    "\n",
    "(où <<code>programme</code>> est soit *apriori*, soit *fpgrowth*).\n",
    "\n",
    "Les options de base de ces 2 programmes sont:\n",
    "- sans argument: génération des itemsets fréquents (argument {<code>-ts</code> activé par défaut)\n",
    "- *tr*: pour obtenir les règles d'associations\n",
    "- *s*: pour fournir une valeur minimale de support. Le support est ici donné en valeur absolue ($n_{AB}$) et non pas en valeur relative ($\\frac{n_{AB}}{n}$).\n",
    "- *m*: pour fournir un nombre minimum d'items dans un itemset\n",
    "- *n*: pour fournir un nombre maximum d'items dans un itemset\n",
    "\n",
    "\n",
    "Par exemple (commandes lancées dans le répertoire père du répertoire *datasets/*):\n",
    "\n",
    "        ./apriori -trs50m2n5 datasets/exemple-1.txt fichier-resultat.out  \n",
    "        ./fpgrowth -trs50m2n5 datasets/mushrooms.txt fichier-resultat.out  \n"
   ]
  },
  {
   "cell_type": "code",
   "execution_count": null,
   "metadata": {},
   "outputs": [],
   "source": []
  }
 ],
 "metadata": {
  "kernelspec": {
   "display_name": "Python 3",
   "language": "python",
   "name": "python3"
  },
  "language_info": {
   "codemirror_mode": {
    "name": "ipython",
    "version": 3
   },
   "file_extension": ".py",
   "mimetype": "text/x-python",
   "name": "python",
   "nbconvert_exporter": "python",
   "pygments_lexer": "ipython3",
   "version": "3.9.13"
  }
 },
 "nbformat": 4,
 "nbformat_minor": 4
}
